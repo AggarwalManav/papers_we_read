{
 "cells": [
  {
   "cell_type": "code",
   "execution_count": 2,
   "id": "093627af-7aaa-49bb-8e55-3bf52c4a781a",
   "metadata": {
    "tags": []
   },
   "outputs": [
    {
     "name": "stdout",
     "output_type": "stream",
     "text": [
      "Requirement already satisfied: gym-anytrading in c:\\users\\manav\\python_jupyter\\dl projects\\reinforcement learning for trading\\rlfortrading\\lib\\site-packages (2.0.0)\n",
      "Requirement already satisfied: gym in c:\\users\\manav\\python_jupyter\\dl projects\\reinforcement learning for trading\\rlfortrading\\lib\\site-packages (0.26.2)\n",
      "Requirement already satisfied: gymnasium>=0.29.1 in c:\\users\\manav\\python_jupyter\\dl projects\\reinforcement learning for trading\\rlfortrading\\lib\\site-packages (from gym-anytrading) (0.29.1)\n",
      "Requirement already satisfied: numpy>=1.16.4 in c:\\users\\manav\\python_jupyter\\dl projects\\reinforcement learning for trading\\rlfortrading\\lib\\site-packages (from gym-anytrading) (1.26.0)\n",
      "Requirement already satisfied: pandas>=0.24.2 in c:\\users\\manav\\python_jupyter\\dl projects\\reinforcement learning for trading\\rlfortrading\\lib\\site-packages (from gym-anytrading) (2.1.1)\n",
      "Requirement already satisfied: matplotlib>=3.1.1 in c:\\users\\manav\\python_jupyter\\dl projects\\reinforcement learning for trading\\rlfortrading\\lib\\site-packages (from gym-anytrading) (3.8.0)\n",
      "Requirement already satisfied: cloudpickle>=1.2.0 in c:\\users\\manav\\python_jupyter\\dl projects\\reinforcement learning for trading\\rlfortrading\\lib\\site-packages (from gym) (2.2.1)\n",
      "Requirement already satisfied: gym-notices>=0.0.4 in c:\\users\\manav\\python_jupyter\\dl projects\\reinforcement learning for trading\\rlfortrading\\lib\\site-packages (from gym) (0.0.8)\n",
      "Requirement already satisfied: typing-extensions>=4.3.0 in c:\\users\\manav\\python_jupyter\\dl projects\\reinforcement learning for trading\\rlfortrading\\lib\\site-packages (from gymnasium>=0.29.1->gym-anytrading) (4.8.0)\n",
      "Requirement already satisfied: farama-notifications>=0.0.1 in c:\\users\\manav\\python_jupyter\\dl projects\\reinforcement learning for trading\\rlfortrading\\lib\\site-packages (from gymnasium>=0.29.1->gym-anytrading) (0.0.4)\n",
      "Requirement already satisfied: contourpy>=1.0.1 in c:\\users\\manav\\python_jupyter\\dl projects\\reinforcement learning for trading\\rlfortrading\\lib\\site-packages (from matplotlib>=3.1.1->gym-anytrading) (1.1.1)\n",
      "Requirement already satisfied: cycler>=0.10 in c:\\users\\manav\\python_jupyter\\dl projects\\reinforcement learning for trading\\rlfortrading\\lib\\site-packages (from matplotlib>=3.1.1->gym-anytrading) (0.12.0)\n",
      "Requirement already satisfied: fonttools>=4.22.0 in c:\\users\\manav\\python_jupyter\\dl projects\\reinforcement learning for trading\\rlfortrading\\lib\\site-packages (from matplotlib>=3.1.1->gym-anytrading) (4.43.0)\n",
      "Requirement already satisfied: kiwisolver>=1.0.1 in c:\\users\\manav\\python_jupyter\\dl projects\\reinforcement learning for trading\\rlfortrading\\lib\\site-packages (from matplotlib>=3.1.1->gym-anytrading) (1.4.5)\n",
      "Requirement already satisfied: packaging>=20.0 in c:\\users\\manav\\python_jupyter\\dl projects\\reinforcement learning for trading\\rlfortrading\\lib\\site-packages (from matplotlib>=3.1.1->gym-anytrading) (23.1)\n",
      "Requirement already satisfied: pillow>=6.2.0 in c:\\users\\manav\\python_jupyter\\dl projects\\reinforcement learning for trading\\rlfortrading\\lib\\site-packages (from matplotlib>=3.1.1->gym-anytrading) (10.0.1)\n",
      "Requirement already satisfied: pyparsing>=2.3.1 in c:\\users\\manav\\python_jupyter\\dl projects\\reinforcement learning for trading\\rlfortrading\\lib\\site-packages (from matplotlib>=3.1.1->gym-anytrading) (3.1.1)\n",
      "Requirement already satisfied: python-dateutil>=2.7 in c:\\users\\manav\\python_jupyter\\dl projects\\reinforcement learning for trading\\rlfortrading\\lib\\site-packages (from matplotlib>=3.1.1->gym-anytrading) (2.8.2)\n",
      "Requirement already satisfied: pytz>=2020.1 in c:\\users\\manav\\python_jupyter\\dl projects\\reinforcement learning for trading\\rlfortrading\\lib\\site-packages (from pandas>=0.24.2->gym-anytrading) (2023.3.post1)\n",
      "Requirement already satisfied: tzdata>=2022.1 in c:\\users\\manav\\python_jupyter\\dl projects\\reinforcement learning for trading\\rlfortrading\\lib\\site-packages (from pandas>=0.24.2->gym-anytrading) (2023.3)\n",
      "Requirement already satisfied: six>=1.5 in c:\\users\\manav\\python_jupyter\\dl projects\\reinforcement learning for trading\\rlfortrading\\lib\\site-packages (from python-dateutil>=2.7->matplotlib>=3.1.1->gym-anytrading) (1.16.0)\n"
     ]
    }
   ],
   "source": [
    "!pip install gym-anytrading gym"
   ]
  },
  {
   "cell_type": "code",
   "execution_count": 3,
   "id": "07c8d5bc-a74f-4d3e-8ea6-9ef7b43d6d2c",
   "metadata": {
    "tags": []
   },
   "outputs": [
    {
     "name": "stdout",
     "output_type": "stream",
     "text": [
      "Requirement already satisfied: stable-baselines3 in c:\\users\\manav\\python_jupyter\\dl projects\\reinforcement learning for trading\\rlfortrading\\lib\\site-packages (2.1.0)\n",
      "Requirement already satisfied: gymnasium<0.30,>=0.28.1 in c:\\users\\manav\\python_jupyter\\dl projects\\reinforcement learning for trading\\rlfortrading\\lib\\site-packages (from stable-baselines3) (0.29.1)\n",
      "Requirement already satisfied: numpy>=1.20 in c:\\users\\manav\\python_jupyter\\dl projects\\reinforcement learning for trading\\rlfortrading\\lib\\site-packages (from stable-baselines3) (1.26.0)\n",
      "Requirement already satisfied: torch>=1.13 in c:\\users\\manav\\python_jupyter\\dl projects\\reinforcement learning for trading\\rlfortrading\\lib\\site-packages (from stable-baselines3) (2.0.1)\n",
      "Requirement already satisfied: cloudpickle in c:\\users\\manav\\python_jupyter\\dl projects\\reinforcement learning for trading\\rlfortrading\\lib\\site-packages (from stable-baselines3) (2.2.1)\n",
      "Requirement already satisfied: pandas in c:\\users\\manav\\python_jupyter\\dl projects\\reinforcement learning for trading\\rlfortrading\\lib\\site-packages (from stable-baselines3) (2.1.1)\n",
      "Requirement already satisfied: matplotlib in c:\\users\\manav\\python_jupyter\\dl projects\\reinforcement learning for trading\\rlfortrading\\lib\\site-packages (from stable-baselines3) (3.8.0)\n",
      "Requirement already satisfied: typing-extensions>=4.3.0 in c:\\users\\manav\\python_jupyter\\dl projects\\reinforcement learning for trading\\rlfortrading\\lib\\site-packages (from gymnasium<0.30,>=0.28.1->stable-baselines3) (4.8.0)\n",
      "Requirement already satisfied: farama-notifications>=0.0.1 in c:\\users\\manav\\python_jupyter\\dl projects\\reinforcement learning for trading\\rlfortrading\\lib\\site-packages (from gymnasium<0.30,>=0.28.1->stable-baselines3) (0.0.4)\n",
      "Requirement already satisfied: filelock in c:\\users\\manav\\python_jupyter\\dl projects\\reinforcement learning for trading\\rlfortrading\\lib\\site-packages (from torch>=1.13->stable-baselines3) (3.12.4)\n",
      "Requirement already satisfied: sympy in c:\\users\\manav\\python_jupyter\\dl projects\\reinforcement learning for trading\\rlfortrading\\lib\\site-packages (from torch>=1.13->stable-baselines3) (1.12)\n",
      "Requirement already satisfied: networkx in c:\\users\\manav\\python_jupyter\\dl projects\\reinforcement learning for trading\\rlfortrading\\lib\\site-packages (from torch>=1.13->stable-baselines3) (3.1)\n",
      "Requirement already satisfied: jinja2 in c:\\users\\manav\\python_jupyter\\dl projects\\reinforcement learning for trading\\rlfortrading\\lib\\site-packages (from torch>=1.13->stable-baselines3) (3.1.2)\n",
      "Requirement already satisfied: contourpy>=1.0.1 in c:\\users\\manav\\python_jupyter\\dl projects\\reinforcement learning for trading\\rlfortrading\\lib\\site-packages (from matplotlib->stable-baselines3) (1.1.1)\n",
      "Requirement already satisfied: cycler>=0.10 in c:\\users\\manav\\python_jupyter\\dl projects\\reinforcement learning for trading\\rlfortrading\\lib\\site-packages (from matplotlib->stable-baselines3) (0.12.0)\n",
      "Requirement already satisfied: fonttools>=4.22.0 in c:\\users\\manav\\python_jupyter\\dl projects\\reinforcement learning for trading\\rlfortrading\\lib\\site-packages (from matplotlib->stable-baselines3) (4.43.0)\n",
      "Requirement already satisfied: kiwisolver>=1.0.1 in c:\\users\\manav\\python_jupyter\\dl projects\\reinforcement learning for trading\\rlfortrading\\lib\\site-packages (from matplotlib->stable-baselines3) (1.4.5)\n",
      "Requirement already satisfied: packaging>=20.0 in c:\\users\\manav\\python_jupyter\\dl projects\\reinforcement learning for trading\\rlfortrading\\lib\\site-packages (from matplotlib->stable-baselines3) (23.1)\n",
      "Requirement already satisfied: pillow>=6.2.0 in c:\\users\\manav\\python_jupyter\\dl projects\\reinforcement learning for trading\\rlfortrading\\lib\\site-packages (from matplotlib->stable-baselines3) (10.0.1)\n",
      "Requirement already satisfied: pyparsing>=2.3.1 in c:\\users\\manav\\python_jupyter\\dl projects\\reinforcement learning for trading\\rlfortrading\\lib\\site-packages (from matplotlib->stable-baselines3) (3.1.1)\n",
      "Requirement already satisfied: python-dateutil>=2.7 in c:\\users\\manav\\python_jupyter\\dl projects\\reinforcement learning for trading\\rlfortrading\\lib\\site-packages (from matplotlib->stable-baselines3) (2.8.2)\n",
      "Requirement already satisfied: pytz>=2020.1 in c:\\users\\manav\\python_jupyter\\dl projects\\reinforcement learning for trading\\rlfortrading\\lib\\site-packages (from pandas->stable-baselines3) (2023.3.post1)\n",
      "Requirement already satisfied: tzdata>=2022.1 in c:\\users\\manav\\python_jupyter\\dl projects\\reinforcement learning for trading\\rlfortrading\\lib\\site-packages (from pandas->stable-baselines3) (2023.3)\n",
      "Requirement already satisfied: six>=1.5 in c:\\users\\manav\\python_jupyter\\dl projects\\reinforcement learning for trading\\rlfortrading\\lib\\site-packages (from python-dateutil>=2.7->matplotlib->stable-baselines3) (1.16.0)\n",
      "Requirement already satisfied: MarkupSafe>=2.0 in c:\\users\\manav\\python_jupyter\\dl projects\\reinforcement learning for trading\\rlfortrading\\lib\\site-packages (from jinja2->torch>=1.13->stable-baselines3) (2.1.3)\n",
      "Requirement already satisfied: mpmath>=0.19 in c:\\users\\manav\\python_jupyter\\dl projects\\reinforcement learning for trading\\rlfortrading\\lib\\site-packages (from sympy->torch>=1.13->stable-baselines3) (1.3.0)\n"
     ]
    }
   ],
   "source": [
    "!pip install stable-baselines3"
   ]
  },
  {
   "cell_type": "code",
   "execution_count": 4,
   "id": "51ee0eea-3dea-4553-ab4c-448cf0ef4845",
   "metadata": {
    "tags": []
   },
   "outputs": [
    {
     "name": "stdout",
     "output_type": "stream",
     "text": [
      "Requirement already satisfied: gym in c:\\users\\manav\\python_jupyter\\dl projects\\reinforcement learning for trading\\rlfortrading\\lib\\site-packages (0.26.2)\n",
      "Requirement already satisfied: numpy>=1.18.0 in c:\\users\\manav\\python_jupyter\\dl projects\\reinforcement learning for trading\\rlfortrading\\lib\\site-packages (from gym) (1.26.0)\n",
      "Requirement already satisfied: cloudpickle>=1.2.0 in c:\\users\\manav\\python_jupyter\\dl projects\\reinforcement learning for trading\\rlfortrading\\lib\\site-packages (from gym) (2.2.1)\n",
      "Requirement already satisfied: gym-notices>=0.0.4 in c:\\users\\manav\\python_jupyter\\dl projects\\reinforcement learning for trading\\rlfortrading\\lib\\site-packages (from gym) (0.0.8)\n"
     ]
    }
   ],
   "source": [
    "!pip install gym"
   ]
  },
  {
   "cell_type": "code",
   "execution_count": 5,
   "id": "3b8b18f7-e841-482a-82d6-eae53b6ca7ce",
   "metadata": {
    "tags": []
   },
   "outputs": [],
   "source": [
    "import gymnasium as gym\n",
    "import gym_anytrading\n",
    "from stable_baselines3.common.vec_env import DummyVecEnv\n",
    "from stable_baselines3 import A2C"
   ]
  },
  {
   "cell_type": "code",
   "execution_count": 6,
   "id": "d38cacf9-eb88-42d8-9a71-f332bc30511b",
   "metadata": {},
   "outputs": [],
   "source": [
    "import numpy as np\n",
    "import pandas as pd\n",
    "from matplotlib import pyplot as plt"
   ]
  },
  {
   "cell_type": "markdown",
   "id": "e6e0c6e0-62c2-40c4-9791-00e263852139",
   "metadata": {},
   "source": [
    "# 1.Bring in Marketwatch Data "
   ]
  },
  {
   "cell_type": "code",
   "execution_count": 7,
   "id": "520e84f5-856d-4ab6-9bf0-18b21426d2c6",
   "metadata": {},
   "outputs": [],
   "source": [
    "df=pd.read_csv(\"./data/gmedata.csv\")"
   ]
  },
  {
   "cell_type": "code",
   "execution_count": 8,
   "id": "cb8c33b4-7993-48c1-a728-256507e17758",
   "metadata": {
    "tags": []
   },
   "outputs": [
    {
     "data": {
      "text/html": [
       "<div>\n",
       "<style scoped>\n",
       "    .dataframe tbody tr th:only-of-type {\n",
       "        vertical-align: middle;\n",
       "    }\n",
       "\n",
       "    .dataframe tbody tr th {\n",
       "        vertical-align: top;\n",
       "    }\n",
       "\n",
       "    .dataframe thead th {\n",
       "        text-align: right;\n",
       "    }\n",
       "</style>\n",
       "<table border=\"1\" class=\"dataframe\">\n",
       "  <thead>\n",
       "    <tr style=\"text-align: right;\">\n",
       "      <th></th>\n",
       "      <th>Date</th>\n",
       "      <th>Open</th>\n",
       "      <th>High</th>\n",
       "      <th>Low</th>\n",
       "      <th>Close</th>\n",
       "      <th>Volume</th>\n",
       "    </tr>\n",
       "  </thead>\n",
       "  <tbody>\n",
       "    <tr>\n",
       "      <th>0</th>\n",
       "      <td>03/12/2021</td>\n",
       "      <td>275.00</td>\n",
       "      <td>295.50</td>\n",
       "      <td>262.27</td>\n",
       "      <td>264.5</td>\n",
       "      <td>25,845,900</td>\n",
       "    </tr>\n",
       "    <tr>\n",
       "      <th>1</th>\n",
       "      <td>03/11/2021</td>\n",
       "      <td>241.64</td>\n",
       "      <td>281.50</td>\n",
       "      <td>232.60</td>\n",
       "      <td>260.0</td>\n",
       "      <td>28,312,490</td>\n",
       "    </tr>\n",
       "    <tr>\n",
       "      <th>2</th>\n",
       "      <td>03/10/2021</td>\n",
       "      <td>269.43</td>\n",
       "      <td>348.50</td>\n",
       "      <td>172.00</td>\n",
       "      <td>265.0</td>\n",
       "      <td>71,570,570</td>\n",
       "    </tr>\n",
       "    <tr>\n",
       "      <th>3</th>\n",
       "      <td>03/09/2021</td>\n",
       "      <td>217.71</td>\n",
       "      <td>249.85</td>\n",
       "      <td>208.51</td>\n",
       "      <td>246.9</td>\n",
       "      <td>39,099,328</td>\n",
       "    </tr>\n",
       "    <tr>\n",
       "      <th>4</th>\n",
       "      <td>03/08/2021</td>\n",
       "      <td>154.89</td>\n",
       "      <td>210.87</td>\n",
       "      <td>146.10</td>\n",
       "      <td>194.5</td>\n",
       "      <td>63,565,621</td>\n",
       "    </tr>\n",
       "  </tbody>\n",
       "</table>\n",
       "</div>"
      ],
      "text/plain": [
       "         Date    Open    High     Low  Close      Volume\n",
       "0  03/12/2021  275.00  295.50  262.27  264.5  25,845,900\n",
       "1  03/11/2021  241.64  281.50  232.60  260.0  28,312,490\n",
       "2  03/10/2021  269.43  348.50  172.00  265.0  71,570,570\n",
       "3  03/09/2021  217.71  249.85  208.51  246.9  39,099,328\n",
       "4  03/08/2021  154.89  210.87  146.10  194.5  63,565,621"
      ]
     },
     "execution_count": 8,
     "metadata": {},
     "output_type": "execute_result"
    }
   ],
   "source": [
    "df.head()"
   ]
  },
  {
   "cell_type": "code",
   "execution_count": 9,
   "id": "553330fb-9d47-449c-b602-20460194532c",
   "metadata": {
    "tags": []
   },
   "outputs": [
    {
     "data": {
      "text/plain": [
       "Date       object\n",
       "Open      float64\n",
       "High      float64\n",
       "Low       float64\n",
       "Close     float64\n",
       "Volume     object\n",
       "dtype: object"
      ]
     },
     "execution_count": 9,
     "metadata": {},
     "output_type": "execute_result"
    }
   ],
   "source": [
    "df.dtypes"
   ]
  },
  {
   "cell_type": "code",
   "execution_count": 10,
   "id": "471124b5-7009-44c9-8c1b-fc72abdfd7cf",
   "metadata": {
    "tags": []
   },
   "outputs": [],
   "source": [
    "df[\"Date\"]=pd.to_datetime(df[\"Date\"])"
   ]
  },
  {
   "cell_type": "code",
   "execution_count": 11,
   "id": "d985e114-1afc-405c-b9b6-870a0cc10270",
   "metadata": {
    "tags": []
   },
   "outputs": [
    {
     "data": {
      "text/plain": [
       "Date      datetime64[ns]\n",
       "Open             float64\n",
       "High             float64\n",
       "Low              float64\n",
       "Close            float64\n",
       "Volume            object\n",
       "dtype: object"
      ]
     },
     "execution_count": 11,
     "metadata": {},
     "output_type": "execute_result"
    }
   ],
   "source": [
    "df.dtypes"
   ]
  },
  {
   "cell_type": "code",
   "execution_count": 12,
   "id": "50867a72-5463-4a86-afcb-cb285dee6d68",
   "metadata": {
    "tags": []
   },
   "outputs": [],
   "source": [
    "df.sort_values(\"Date\",ascending=True,inplace=True)"
   ]
  },
  {
   "cell_type": "code",
   "execution_count": 13,
   "id": "b096f433-0c40-4f71-87e5-900abf5db79b",
   "metadata": {
    "tags": []
   },
   "outputs": [
    {
     "data": {
      "text/html": [
       "<div>\n",
       "<style scoped>\n",
       "    .dataframe tbody tr th:only-of-type {\n",
       "        vertical-align: middle;\n",
       "    }\n",
       "\n",
       "    .dataframe tbody tr th {\n",
       "        vertical-align: top;\n",
       "    }\n",
       "\n",
       "    .dataframe thead th {\n",
       "        text-align: right;\n",
       "    }\n",
       "</style>\n",
       "<table border=\"1\" class=\"dataframe\">\n",
       "  <thead>\n",
       "    <tr style=\"text-align: right;\">\n",
       "      <th></th>\n",
       "      <th>Date</th>\n",
       "      <th>Open</th>\n",
       "      <th>High</th>\n",
       "      <th>Low</th>\n",
       "      <th>Close</th>\n",
       "      <th>Volume</th>\n",
       "    </tr>\n",
       "  </thead>\n",
       "  <tbody>\n",
       "    <tr>\n",
       "      <th>250</th>\n",
       "      <td>2020-03-16</td>\n",
       "      <td>3.93</td>\n",
       "      <td>4.57</td>\n",
       "      <td>3.90</td>\n",
       "      <td>4.37</td>\n",
       "      <td>4,866,696</td>\n",
       "    </tr>\n",
       "    <tr>\n",
       "      <th>249</th>\n",
       "      <td>2020-03-17</td>\n",
       "      <td>4.40</td>\n",
       "      <td>4.65</td>\n",
       "      <td>4.11</td>\n",
       "      <td>4.23</td>\n",
       "      <td>3,562,210</td>\n",
       "    </tr>\n",
       "    <tr>\n",
       "      <th>248</th>\n",
       "      <td>2020-03-18</td>\n",
       "      <td>4.10</td>\n",
       "      <td>4.25</td>\n",
       "      <td>3.50</td>\n",
       "      <td>3.77</td>\n",
       "      <td>3,651,709</td>\n",
       "    </tr>\n",
       "    <tr>\n",
       "      <th>247</th>\n",
       "      <td>2020-03-19</td>\n",
       "      <td>3.71</td>\n",
       "      <td>4.20</td>\n",
       "      <td>3.55</td>\n",
       "      <td>4.19</td>\n",
       "      <td>5,039,539</td>\n",
       "    </tr>\n",
       "    <tr>\n",
       "      <th>246</th>\n",
       "      <td>2020-03-20</td>\n",
       "      <td>4.08</td>\n",
       "      <td>4.08</td>\n",
       "      <td>3.65</td>\n",
       "      <td>3.76</td>\n",
       "      <td>7,722,194</td>\n",
       "    </tr>\n",
       "  </tbody>\n",
       "</table>\n",
       "</div>"
      ],
      "text/plain": [
       "          Date  Open  High   Low  Close     Volume\n",
       "250 2020-03-16  3.93  4.57  3.90   4.37  4,866,696\n",
       "249 2020-03-17  4.40  4.65  4.11   4.23  3,562,210\n",
       "248 2020-03-18  4.10  4.25  3.50   3.77  3,651,709\n",
       "247 2020-03-19  3.71  4.20  3.55   4.19  5,039,539\n",
       "246 2020-03-20  4.08  4.08  3.65   3.76  7,722,194"
      ]
     },
     "execution_count": 13,
     "metadata": {},
     "output_type": "execute_result"
    }
   ],
   "source": [
    "df.head()"
   ]
  },
  {
   "cell_type": "code",
   "execution_count": 14,
   "id": "1aaee6a1-23d2-4cf6-b9bf-5f6c52918f17",
   "metadata": {
    "tags": []
   },
   "outputs": [],
   "source": [
    "df.set_index(\"Date\",inplace=True)"
   ]
  },
  {
   "cell_type": "code",
   "execution_count": 15,
   "id": "93e145c3-0aaf-40ee-b044-4de165490b7a",
   "metadata": {
    "tags": []
   },
   "outputs": [
    {
     "data": {
      "text/plain": [
       "(251, 5)"
      ]
     },
     "execution_count": 15,
     "metadata": {},
     "output_type": "execute_result"
    }
   ],
   "source": [
    "df.shape"
   ]
  },
  {
   "cell_type": "code",
   "execution_count": 16,
   "id": "500cb477-3fb5-4aea-bedb-2e234c47a491",
   "metadata": {
    "tags": []
   },
   "outputs": [
    {
     "data": {
      "text/html": [
       "<div>\n",
       "<style scoped>\n",
       "    .dataframe tbody tr th:only-of-type {\n",
       "        vertical-align: middle;\n",
       "    }\n",
       "\n",
       "    .dataframe tbody tr th {\n",
       "        vertical-align: top;\n",
       "    }\n",
       "\n",
       "    .dataframe thead th {\n",
       "        text-align: right;\n",
       "    }\n",
       "</style>\n",
       "<table border=\"1\" class=\"dataframe\">\n",
       "  <thead>\n",
       "    <tr style=\"text-align: right;\">\n",
       "      <th></th>\n",
       "      <th>Open</th>\n",
       "      <th>High</th>\n",
       "      <th>Low</th>\n",
       "      <th>Close</th>\n",
       "      <th>Volume</th>\n",
       "    </tr>\n",
       "    <tr>\n",
       "      <th>Date</th>\n",
       "      <th></th>\n",
       "      <th></th>\n",
       "      <th></th>\n",
       "      <th></th>\n",
       "      <th></th>\n",
       "    </tr>\n",
       "  </thead>\n",
       "  <tbody>\n",
       "    <tr>\n",
       "      <th>2020-03-16</th>\n",
       "      <td>3.93</td>\n",
       "      <td>4.57</td>\n",
       "      <td>3.90</td>\n",
       "      <td>4.37</td>\n",
       "      <td>4,866,696</td>\n",
       "    </tr>\n",
       "    <tr>\n",
       "      <th>2020-03-17</th>\n",
       "      <td>4.40</td>\n",
       "      <td>4.65</td>\n",
       "      <td>4.11</td>\n",
       "      <td>4.23</td>\n",
       "      <td>3,562,210</td>\n",
       "    </tr>\n",
       "    <tr>\n",
       "      <th>2020-03-18</th>\n",
       "      <td>4.10</td>\n",
       "      <td>4.25</td>\n",
       "      <td>3.50</td>\n",
       "      <td>3.77</td>\n",
       "      <td>3,651,709</td>\n",
       "    </tr>\n",
       "    <tr>\n",
       "      <th>2020-03-19</th>\n",
       "      <td>3.71</td>\n",
       "      <td>4.20</td>\n",
       "      <td>3.55</td>\n",
       "      <td>4.19</td>\n",
       "      <td>5,039,539</td>\n",
       "    </tr>\n",
       "    <tr>\n",
       "      <th>2020-03-20</th>\n",
       "      <td>4.08</td>\n",
       "      <td>4.08</td>\n",
       "      <td>3.65</td>\n",
       "      <td>3.76</td>\n",
       "      <td>7,722,194</td>\n",
       "    </tr>\n",
       "  </tbody>\n",
       "</table>\n",
       "</div>"
      ],
      "text/plain": [
       "            Open  High   Low  Close     Volume\n",
       "Date                                          \n",
       "2020-03-16  3.93  4.57  3.90   4.37  4,866,696\n",
       "2020-03-17  4.40  4.65  4.11   4.23  3,562,210\n",
       "2020-03-18  4.10  4.25  3.50   3.77  3,651,709\n",
       "2020-03-19  3.71  4.20  3.55   4.19  5,039,539\n",
       "2020-03-20  4.08  4.08  3.65   3.76  7,722,194"
      ]
     },
     "execution_count": 16,
     "metadata": {},
     "output_type": "execute_result"
    }
   ],
   "source": [
    "df.head()"
   ]
  },
  {
   "cell_type": "code",
   "execution_count": 17,
   "id": "a8ca116b-2a46-4d70-b3e0-ff76022a7d02",
   "metadata": {
    "tags": []
   },
   "outputs": [],
   "source": [
    "env = gym.make('stocks-v0', df=df, frame_bound=(5,100), window_size=5)"
   ]
  },
  {
   "cell_type": "code",
   "execution_count": 18,
   "id": "72ad0ae6-4fc8-4277-a6c4-e6b243cd7444",
   "metadata": {
    "tags": []
   },
   "outputs": [
    {
     "name": "stderr",
     "output_type": "stream",
     "text": [
      "C:\\Users\\manav\\anaconda3\\lib\\site-packages\\gymnasium\\core.py:311: UserWarning: \u001b[33mWARN: env.prices to get variables from other wrappers is deprecated and will be removed in v1.0, to get this variable you can do `env.unwrapped.prices` for environment variables or `env.get_wrapper_attr('prices')` that will search the reminding wrappers.\u001b[0m\n",
      "  logger.warn(\n"
     ]
    },
    {
     "data": {
      "text/plain": [
       "(100,)"
      ]
     },
     "execution_count": 18,
     "metadata": {},
     "output_type": "execute_result"
    }
   ],
   "source": [
    "env.prices.shape"
   ]
  },
  {
   "cell_type": "code",
   "execution_count": 20,
   "id": "e0904045-e33b-4057-9377-3d2624e47f6a",
   "metadata": {
    "tags": []
   },
   "outputs": [
    {
     "data": {
      "text/plain": [
       "array([4.37, 4.23, 3.77, 4.19, 3.76, 3.81, 4.16, 4.17, 4.41, 4.22, 3.65,\n",
       "       3.5 , 3.25, 2.85, 2.8 , 3.09, 3.27, 3.41, 3.89, 4.74, 5.95, 5.27,\n",
       "       5.03, 4.88, 5.61, 4.78, 4.89, 4.7 , 4.77, 5.82, 5.64, 6.04, 5.73,\n",
       "       6.05, 5.48, 5.39, 4.93, 4.87, 4.98, 4.76, 4.54, 4.21, 4.13, 4.22,\n",
       "       4.58, 4.44, 4.43, 4.44, 4.18, 4.42, 4.69, 4.33, 4.06, 4.13, 4.18,\n",
       "       4.44, 4.47, 4.14, 5.01, 4.96, 5.07, 4.37, 4.72, 4.69, 4.64, 4.76,\n",
       "       4.95, 4.88, 4.87, 4.83, 4.41, 4.46, 4.35, 4.38, 4.34, 4.44, 4.29,\n",
       "       4.24, 4.09, 4.26, 4.21, 4.34, 4.26, 4.08, 4.19, 4.17, 3.96, 3.85,\n",
       "       4.01, 4.11, 4.11, 4.03, 4.01, 3.94, 4.06, 4.1 , 4.01, 4.15, 4.43,\n",
       "       4.63], dtype=float32)"
      ]
     },
     "execution_count": 20,
     "metadata": {},
     "output_type": "execute_result"
    }
   ],
   "source": [
    "env.prices"
   ]
  },
  {
   "cell_type": "code",
   "execution_count": 19,
   "id": "8c45b867-03c6-4292-ab7d-95daaf2a0542",
   "metadata": {
    "tags": []
   },
   "outputs": [
    {
     "name": "stderr",
     "output_type": "stream",
     "text": [
      "C:\\Users\\manav\\anaconda3\\lib\\site-packages\\gymnasium\\core.py:311: UserWarning: \u001b[33mWARN: env.signal_features to get variables from other wrappers is deprecated and will be removed in v1.0, to get this variable you can do `env.unwrapped.signal_features` for environment variables or `env.get_wrapper_attr('signal_features')` that will search the reminding wrappers.\u001b[0m\n",
      "  logger.warn(\n"
     ]
    },
    {
     "data": {
      "text/plain": [
       "array([[ 4.37,  0.  ],\n",
       "       [ 4.23, -0.14],\n",
       "       [ 3.77, -0.46],\n",
       "       [ 4.19,  0.42],\n",
       "       [ 3.76, -0.43],\n",
       "       [ 3.81,  0.05],\n",
       "       [ 4.16,  0.35],\n",
       "       [ 4.17,  0.01],\n",
       "       [ 4.41,  0.24],\n",
       "       [ 4.22, -0.19],\n",
       "       [ 3.65, -0.57],\n",
       "       [ 3.5 , -0.15],\n",
       "       [ 3.25, -0.25],\n",
       "       [ 2.85, -0.4 ],\n",
       "       [ 2.8 , -0.05],\n",
       "       [ 3.09,  0.29],\n",
       "       [ 3.27,  0.18],\n",
       "       [ 3.41,  0.14],\n",
       "       [ 3.89,  0.48],\n",
       "       [ 4.74,  0.85],\n",
       "       [ 5.95,  1.21],\n",
       "       [ 5.27, -0.68],\n",
       "       [ 5.03, -0.24],\n",
       "       [ 4.88, -0.15],\n",
       "       [ 5.61,  0.73],\n",
       "       [ 4.78, -0.83],\n",
       "       [ 4.89,  0.11],\n",
       "       [ 4.7 , -0.19],\n",
       "       [ 4.77,  0.07],\n",
       "       [ 5.82,  1.05],\n",
       "       [ 5.64, -0.18],\n",
       "       [ 6.04,  0.4 ],\n",
       "       [ 5.73, -0.31],\n",
       "       [ 6.05,  0.32],\n",
       "       [ 5.48, -0.57],\n",
       "       [ 5.39, -0.09],\n",
       "       [ 4.93, -0.46],\n",
       "       [ 4.87, -0.06],\n",
       "       [ 4.98,  0.11],\n",
       "       [ 4.76, -0.22],\n",
       "       [ 4.54, -0.22],\n",
       "       [ 4.21, -0.33],\n",
       "       [ 4.13, -0.08],\n",
       "       [ 4.22,  0.09],\n",
       "       [ 4.58,  0.36],\n",
       "       [ 4.44, -0.14],\n",
       "       [ 4.43, -0.01],\n",
       "       [ 4.44,  0.01],\n",
       "       [ 4.18, -0.26],\n",
       "       [ 4.42,  0.24],\n",
       "       [ 4.69,  0.27],\n",
       "       [ 4.33, -0.36],\n",
       "       [ 4.06, -0.27],\n",
       "       [ 4.13,  0.07],\n",
       "       [ 4.18,  0.05],\n",
       "       [ 4.44,  0.26],\n",
       "       [ 4.47,  0.03],\n",
       "       [ 4.14, -0.33],\n",
       "       [ 5.01,  0.87],\n",
       "       [ 4.96, -0.05],\n",
       "       [ 5.07,  0.11],\n",
       "       [ 4.37, -0.7 ],\n",
       "       [ 4.72,  0.35],\n",
       "       [ 4.69, -0.03],\n",
       "       [ 4.64, -0.05],\n",
       "       [ 4.76,  0.12],\n",
       "       [ 4.95,  0.19],\n",
       "       [ 4.88, -0.07],\n",
       "       [ 4.87, -0.01],\n",
       "       [ 4.83, -0.04],\n",
       "       [ 4.41, -0.42],\n",
       "       [ 4.46,  0.05],\n",
       "       [ 4.35, -0.11],\n",
       "       [ 4.38,  0.03],\n",
       "       [ 4.34, -0.04],\n",
       "       [ 4.44,  0.1 ],\n",
       "       [ 4.29, -0.15],\n",
       "       [ 4.24, -0.05],\n",
       "       [ 4.09, -0.15],\n",
       "       [ 4.26,  0.17],\n",
       "       [ 4.21, -0.05],\n",
       "       [ 4.34,  0.13],\n",
       "       [ 4.26, -0.08],\n",
       "       [ 4.08, -0.18],\n",
       "       [ 4.19,  0.11],\n",
       "       [ 4.17, -0.02],\n",
       "       [ 3.96, -0.21],\n",
       "       [ 3.85, -0.11],\n",
       "       [ 4.01,  0.16],\n",
       "       [ 4.11,  0.1 ],\n",
       "       [ 4.11,  0.  ],\n",
       "       [ 4.03, -0.08],\n",
       "       [ 4.01, -0.02],\n",
       "       [ 3.94, -0.07],\n",
       "       [ 4.06,  0.12],\n",
       "       [ 4.1 ,  0.04],\n",
       "       [ 4.01, -0.09],\n",
       "       [ 4.15,  0.14],\n",
       "       [ 4.43,  0.28],\n",
       "       [ 4.63,  0.2 ]], dtype=float32)"
      ]
     },
     "execution_count": 19,
     "metadata": {},
     "output_type": "execute_result"
    }
   ],
   "source": [
    "env.signal_features"
   ]
  },
  {
   "cell_type": "markdown",
   "id": "dbc66cc9-d67c-4d10-9799-2d8545a20604",
   "metadata": {},
   "source": [
    "# 2.Build Environment"
   ]
  },
  {
   "cell_type": "code",
   "execution_count": 60,
   "id": "d8b7ac6f-0894-4ddc-9c26-2eb429c5e422",
   "metadata": {
    "tags": []
   },
   "outputs": [
    {
     "data": {
      "text/plain": [
       "Discrete(2)"
      ]
     },
     "execution_count": 60,
     "metadata": {},
     "output_type": "execute_result"
    }
   ],
   "source": [
    "env.action_space"
   ]
  },
  {
   "cell_type": "code",
   "execution_count": 109,
   "id": "0ca08c86-b286-4673-8020-7d634a8e5779",
   "metadata": {
    "tags": []
   },
   "outputs": [
    {
     "name": "stderr",
     "output_type": "stream",
     "text": [
      "C:\\Users\\manav\\anaconda3\\lib\\site-packages\\gymnasium\\core.py:311: UserWarning: \u001b[33mWARN: env.render_all to get variables from other wrappers is deprecated and will be removed in v1.0, to get this variable you can do `env.unwrapped.render_all` for environment variables or `env.get_wrapper_attr('render_all')` that will search the reminding wrappers.\u001b[0m\n",
      "  logger.warn(\n"
     ]
    },
    {
     "name": "stdout",
     "output_type": "stream",
     "text": [
      "info {'total_reward': -27.460006713867188, 'total_profit': 0.7748260181907846, 'position': <Positions.Short: 0>}\n"
     ]
    },
    {
     "data": {
      "image/png": "[encoded data removed]",
      "text/plain": [
       "<Figure size 1500x600 with 1 Axes>"
      ]
     },
     "metadata": {},
     "output_type": "display_data"
    }
   ],
   "source": [
    "state = env.reset()\n",
    "while True: \n",
    "    action = env.action_space.sample()\n",
    "    observation, reward, terminated, truncated, info = env.step(action)\n",
    "    done = terminated or truncated\n",
    "    if done: \n",
    "        print(\"info\", info)\n",
    "        break\n",
    "        \n",
    "plt.figure(figsize=(15,6))\n",
    "plt.cla()\n",
    "env.render_all()\n",
    "plt.show()"
   ]
  },
  {
   "cell_type": "markdown",
   "id": "2e4b9491-5098-439a-b225-10a57fe22951",
   "metadata": {
    "tags": []
   },
   "source": [
    "## 2.1 Install and Import New Dependencies "
   ]
  },
  {
   "cell_type": "code",
   "execution_count": 36,
   "id": "9c1c3338-6f99-4872-99fc-fe0c9f2cbe67",
   "metadata": {
    "tags": []
   },
   "outputs": [
    {
     "name": "stdout",
     "output_type": "stream",
     "text": [
      "Collecting finta\n",
      "  Using cached finta-1.3-py3-none-any.whl (29 kB)\n",
      "Requirement already satisfied: pandas in c:\\users\\manav\\anaconda3\\lib\\site-packages (from finta) (2.0.3)\n",
      "Requirement already satisfied: numpy in c:\\users\\manav\\anaconda3\\lib\\site-packages (from finta) (1.24.3)\n",
      "Requirement already satisfied: python-dateutil>=2.8.2 in c:\\users\\manav\\anaconda3\\lib\\site-packages (from pandas->finta) (2.8.2)\n",
      "Requirement already satisfied: pytz>=2020.1 in c:\\users\\manav\\anaconda3\\lib\\site-packages (from pandas->finta) (2022.7)\n",
      "Requirement already satisfied: tzdata>=2022.1 in c:\\users\\manav\\anaconda3\\lib\\site-packages (from pandas->finta) (2023.3)\n",
      "Requirement already satisfied: six>=1.5 in c:\\users\\manav\\anaconda3\\lib\\site-packages (from python-dateutil>=2.8.2->pandas->finta) (1.16.0)\n",
      "Installing collected packages: finta\n",
      "Successfully installed finta-1.3\n",
      "Note: you may need to restart the kernel to use updated packages.\n"
     ]
    }
   ],
   "source": [
    "pip install finta"
   ]
  },
  {
   "cell_type": "code",
   "execution_count": 37,
   "id": "a46736a1-32b0-4ba7-91d1-e67f0dc5ee31",
   "metadata": {
    "tags": []
   },
   "outputs": [],
   "source": [
    "from gym_anytrading.envs import StocksEnv"
   ]
  },
  {
   "cell_type": "code",
   "execution_count": 38,
   "id": "d06cb860-a98e-4934-931a-f26100acda1b",
   "metadata": {
    "tags": []
   },
   "outputs": [],
   "source": [
    "from finta import TA"
   ]
  },
  {
   "cell_type": "markdown",
   "id": "bd64d2b3-102a-4838-b867-a2c6fd827ec5",
   "metadata": {},
   "source": [
    "## 2.2 Fix Volume Column "
   ]
  },
  {
   "cell_type": "code",
   "execution_count": 39,
   "id": "93615f7e-b0eb-4a06-8726-13cd57c6ce93",
   "metadata": {
    "tags": []
   },
   "outputs": [
    {
     "data": {
      "text/plain": [
       "Date\n",
       "2020-03-16     4,866,696\n",
       "2020-03-17     3,562,210\n",
       "2020-03-18     3,651,709\n",
       "2020-03-19     5,039,539\n",
       "2020-03-20     7,722,194\n",
       "                 ...    \n",
       "2021-03-08    63,565,621\n",
       "2021-03-09    39,099,328\n",
       "2021-03-10    71,570,570\n",
       "2021-03-11    28,312,490\n",
       "2021-03-12    25,845,900\n",
       "Name: Volume, Length: 251, dtype: object"
      ]
     },
     "execution_count": 39,
     "metadata": {},
     "output_type": "execute_result"
    }
   ],
   "source": [
    "df[\"Volume\"]"
   ]
  },
  {
   "cell_type": "code",
   "execution_count": 40,
   "id": "6a12a662-cccb-4dd2-98ad-585246a1b2a7",
   "metadata": {
    "tags": []
   },
   "outputs": [],
   "source": [
    "df[\"Volume\"]=df[\"Volume\"].apply(lambda x: float(x.replace(\",\",\"\")))"
   ]
  },
  {
   "cell_type": "code",
   "execution_count": 41,
   "id": "2a9942e8-1f6c-4870-ad3f-653774b94741",
   "metadata": {
    "tags": []
   },
   "outputs": [
    {
     "data": {
      "text/plain": [
       "Open      float64\n",
       "High      float64\n",
       "Low       float64\n",
       "Close     float64\n",
       "Volume    float64\n",
       "dtype: object"
      ]
     },
     "execution_count": 41,
     "metadata": {},
     "output_type": "execute_result"
    }
   ],
   "source": [
    "df.dtypes"
   ]
  },
  {
   "cell_type": "markdown",
   "id": "c93ff9dc-c0ca-4e68-b396-cfbc805b2030",
   "metadata": {},
   "source": [
    "## 2.3 Calculate SMA, RSI and OBV "
   ]
  },
  {
   "cell_type": "code",
   "execution_count": 42,
   "id": "709a4f2c-793f-4db8-84a1-a1b69fe273e6",
   "metadata": {
    "tags": []
   },
   "outputs": [],
   "source": [
    "df[\"SMA\"]=TA.SMA(df,12)\n",
    "df[\"RSI\"]=TA.RSI(df)\n",
    "df[\"OBV\"]=TA.OBV(df)\n",
    "df.fillna(0,inplace=True)"
   ]
  },
  {
   "cell_type": "code",
   "execution_count": 43,
   "id": "25a9042a-5ff9-4c5c-9f76-0e56c0d900cf",
   "metadata": {
    "tags": []
   },
   "outputs": [
    {
     "data": {
      "text/html": [
       "<div>\n",
       "<style scoped>\n",
       "    .dataframe tbody tr th:only-of-type {\n",
       "        vertical-align: middle;\n",
       "    }\n",
       "\n",
       "    .dataframe tbody tr th {\n",
       "        vertical-align: top;\n",
       "    }\n",
       "\n",
       "    .dataframe thead th {\n",
       "        text-align: right;\n",
       "    }\n",
       "</style>\n",
       "<table border=\"1\" class=\"dataframe\">\n",
       "  <thead>\n",
       "    <tr style=\"text-align: right;\">\n",
       "      <th></th>\n",
       "      <th>Open</th>\n",
       "      <th>High</th>\n",
       "      <th>Low</th>\n",
       "      <th>Close</th>\n",
       "      <th>Volume</th>\n",
       "      <th>SMA</th>\n",
       "      <th>RSI</th>\n",
       "      <th>OBV</th>\n",
       "    </tr>\n",
       "    <tr>\n",
       "      <th>Date</th>\n",
       "      <th></th>\n",
       "      <th></th>\n",
       "      <th></th>\n",
       "      <th></th>\n",
       "      <th></th>\n",
       "      <th></th>\n",
       "      <th></th>\n",
       "      <th></th>\n",
       "    </tr>\n",
       "  </thead>\n",
       "  <tbody>\n",
       "    <tr>\n",
       "      <th>2020-03-16</th>\n",
       "      <td>3.93</td>\n",
       "      <td>4.57</td>\n",
       "      <td>3.90</td>\n",
       "      <td>4.37</td>\n",
       "      <td>4866696.0</td>\n",
       "      <td>0.000000</td>\n",
       "      <td>0.000000</td>\n",
       "      <td>0.0</td>\n",
       "    </tr>\n",
       "    <tr>\n",
       "      <th>2020-03-17</th>\n",
       "      <td>4.40</td>\n",
       "      <td>4.65</td>\n",
       "      <td>4.11</td>\n",
       "      <td>4.23</td>\n",
       "      <td>3562210.0</td>\n",
       "      <td>0.000000</td>\n",
       "      <td>0.000000</td>\n",
       "      <td>-3562210.0</td>\n",
       "    </tr>\n",
       "    <tr>\n",
       "      <th>2020-03-18</th>\n",
       "      <td>4.10</td>\n",
       "      <td>4.25</td>\n",
       "      <td>3.50</td>\n",
       "      <td>3.77</td>\n",
       "      <td>3651709.0</td>\n",
       "      <td>0.000000</td>\n",
       "      <td>0.000000</td>\n",
       "      <td>-7213919.0</td>\n",
       "    </tr>\n",
       "    <tr>\n",
       "      <th>2020-03-19</th>\n",
       "      <td>3.71</td>\n",
       "      <td>4.20</td>\n",
       "      <td>3.55</td>\n",
       "      <td>4.19</td>\n",
       "      <td>5039539.0</td>\n",
       "      <td>0.000000</td>\n",
       "      <td>43.394834</td>\n",
       "      <td>-2174380.0</td>\n",
       "    </tr>\n",
       "    <tr>\n",
       "      <th>2020-03-20</th>\n",
       "      <td>4.08</td>\n",
       "      <td>4.08</td>\n",
       "      <td>3.65</td>\n",
       "      <td>3.76</td>\n",
       "      <td>7722194.0</td>\n",
       "      <td>0.000000</td>\n",
       "      <td>29.351457</td>\n",
       "      <td>-9896574.0</td>\n",
       "    </tr>\n",
       "    <tr>\n",
       "      <th>2020-03-23</th>\n",
       "      <td>3.58</td>\n",
       "      <td>3.86</td>\n",
       "      <td>3.50</td>\n",
       "      <td>3.81</td>\n",
       "      <td>6009784.0</td>\n",
       "      <td>0.000000</td>\n",
       "      <td>32.102964</td>\n",
       "      <td>-3886790.0</td>\n",
       "    </tr>\n",
       "    <tr>\n",
       "      <th>2020-03-24</th>\n",
       "      <td>3.95</td>\n",
       "      <td>4.21</td>\n",
       "      <td>3.89</td>\n",
       "      <td>4.16</td>\n",
       "      <td>6805659.0</td>\n",
       "      <td>0.000000</td>\n",
       "      <td>47.512950</td>\n",
       "      <td>2918869.0</td>\n",
       "    </tr>\n",
       "    <tr>\n",
       "      <th>2020-03-25</th>\n",
       "      <td>4.15</td>\n",
       "      <td>4.49</td>\n",
       "      <td>4.04</td>\n",
       "      <td>4.17</td>\n",
       "      <td>3592059.0</td>\n",
       "      <td>0.000000</td>\n",
       "      <td>47.876947</td>\n",
       "      <td>6510928.0</td>\n",
       "    </tr>\n",
       "    <tr>\n",
       "      <th>2020-03-26</th>\n",
       "      <td>4.24</td>\n",
       "      <td>4.71</td>\n",
       "      <td>4.24</td>\n",
       "      <td>4.41</td>\n",
       "      <td>6210979.0</td>\n",
       "      <td>0.000000</td>\n",
       "      <td>55.799557</td>\n",
       "      <td>12721907.0</td>\n",
       "    </tr>\n",
       "    <tr>\n",
       "      <th>2020-03-27</th>\n",
       "      <td>4.94</td>\n",
       "      <td>5.09</td>\n",
       "      <td>4.15</td>\n",
       "      <td>4.22</td>\n",
       "      <td>7024763.0</td>\n",
       "      <td>0.000000</td>\n",
       "      <td>49.398141</td>\n",
       "      <td>5697144.0</td>\n",
       "    </tr>\n",
       "    <tr>\n",
       "      <th>2020-03-30</th>\n",
       "      <td>4.22</td>\n",
       "      <td>4.27</td>\n",
       "      <td>3.65</td>\n",
       "      <td>3.65</td>\n",
       "      <td>3350571.0</td>\n",
       "      <td>0.000000</td>\n",
       "      <td>36.040223</td>\n",
       "      <td>2346573.0</td>\n",
       "    </tr>\n",
       "    <tr>\n",
       "      <th>2020-03-31</th>\n",
       "      <td>3.63</td>\n",
       "      <td>3.80</td>\n",
       "      <td>3.50</td>\n",
       "      <td>3.50</td>\n",
       "      <td>2304132.0</td>\n",
       "      <td>4.020000</td>\n",
       "      <td>33.474865</td>\n",
       "      <td>42441.0</td>\n",
       "    </tr>\n",
       "    <tr>\n",
       "      <th>2020-04-01</th>\n",
       "      <td>3.45</td>\n",
       "      <td>3.49</td>\n",
       "      <td>3.12</td>\n",
       "      <td>3.25</td>\n",
       "      <td>4568695.0</td>\n",
       "      <td>3.926667</td>\n",
       "      <td>29.682621</td>\n",
       "      <td>-4526254.0</td>\n",
       "    </tr>\n",
       "    <tr>\n",
       "      <th>2020-04-02</th>\n",
       "      <td>3.26</td>\n",
       "      <td>3.35</td>\n",
       "      <td>2.85</td>\n",
       "      <td>2.85</td>\n",
       "      <td>4064339.0</td>\n",
       "      <td>3.811667</td>\n",
       "      <td>24.834835</td>\n",
       "      <td>-8590593.0</td>\n",
       "    </tr>\n",
       "    <tr>\n",
       "      <th>2020-04-03</th>\n",
       "      <td>2.85</td>\n",
       "      <td>2.94</td>\n",
       "      <td>2.57</td>\n",
       "      <td>2.80</td>\n",
       "      <td>3830761.0</td>\n",
       "      <td>3.730833</td>\n",
       "      <td>24.300576</td>\n",
       "      <td>-12421354.0</td>\n",
       "    </tr>\n",
       "  </tbody>\n",
       "</table>\n",
       "</div>"
      ],
      "text/plain": [
       "            Open  High   Low  Close     Volume       SMA        RSI  \\\n",
       "Date                                                                  \n",
       "2020-03-16  3.93  4.57  3.90   4.37  4866696.0  0.000000   0.000000   \n",
       "2020-03-17  4.40  4.65  4.11   4.23  3562210.0  0.000000   0.000000   \n",
       "2020-03-18  4.10  4.25  3.50   3.77  3651709.0  0.000000   0.000000   \n",
       "2020-03-19  3.71  4.20  3.55   4.19  5039539.0  0.000000  43.394834   \n",
       "2020-03-20  4.08  4.08  3.65   3.76  7722194.0  0.000000  29.351457   \n",
       "2020-03-23  3.58  3.86  3.50   3.81  6009784.0  0.000000  32.102964   \n",
       "2020-03-24  3.95  4.21  3.89   4.16  6805659.0  0.000000  47.512950   \n",
       "2020-03-25  4.15  4.49  4.04   4.17  3592059.0  0.000000  47.876947   \n",
       "2020-03-26  4.24  4.71  4.24   4.41  6210979.0  0.000000  55.799557   \n",
       "2020-03-27  4.94  5.09  4.15   4.22  7024763.0  0.000000  49.398141   \n",
       "2020-03-30  4.22  4.27  3.65   3.65  3350571.0  0.000000  36.040223   \n",
       "2020-03-31  3.63  3.80  3.50   3.50  2304132.0  4.020000  33.474865   \n",
       "2020-04-01  3.45  3.49  3.12   3.25  4568695.0  3.926667  29.682621   \n",
       "2020-04-02  3.26  3.35  2.85   2.85  4064339.0  3.811667  24.834835   \n",
       "2020-04-03  2.85  2.94  2.57   2.80  3830761.0  3.730833  24.300576   \n",
       "\n",
       "                   OBV  \n",
       "Date                    \n",
       "2020-03-16         0.0  \n",
       "2020-03-17  -3562210.0  \n",
       "2020-03-18  -7213919.0  \n",
       "2020-03-19  -2174380.0  \n",
       "2020-03-20  -9896574.0  \n",
       "2020-03-23  -3886790.0  \n",
       "2020-03-24   2918869.0  \n",
       "2020-03-25   6510928.0  \n",
       "2020-03-26  12721907.0  \n",
       "2020-03-27   5697144.0  \n",
       "2020-03-30   2346573.0  \n",
       "2020-03-31     42441.0  \n",
       "2020-04-01  -4526254.0  \n",
       "2020-04-02  -8590593.0  \n",
       "2020-04-03 -12421354.0  "
      ]
     },
     "execution_count": 43,
     "metadata": {},
     "output_type": "execute_result"
    }
   ],
   "source": [
    "df.head(15)"
   ]
  },
  {
   "cell_type": "markdown",
   "id": "bb8fe9c7-5dc9-4c58-b991-f1f55473ae6b",
   "metadata": {},
   "source": [
    "## 2.4 Create New Environments "
   ]
  },
  {
   "cell_type": "code",
   "execution_count": 56,
   "id": "ee166ddd-4866-42cb-bc1d-0b64fa3adeb7",
   "metadata": {
    "tags": []
   },
   "outputs": [],
   "source": [
    "def add_signals(env):\n",
    "    start=env.frame_bound[0]-env.window_size\n",
    "    end=env.frame_bound[1]\n",
    "    prices=env.df.loc[:,\"Low\"].to_numpy()[start:end]\n",
    "    signal_features=env.df.loc[:,[\"Low\",\"Volume\",\"SMA\",\"RSI\",\"OBV\"]].to_numpy()[start:end]\n",
    "    return prices,signal_features"
   ]
  },
  {
   "cell_type": "code",
   "execution_count": 57,
   "id": "c69ae615-2286-464a-a7ca-b89a98ded87f",
   "metadata": {
    "tags": []
   },
   "outputs": [],
   "source": [
    "class MyCustomEnv(StocksEnv):\n",
    "    _process_data=add_signals\n",
    "    \n",
    "env2=MyCustomEnv(df=df,window_size=12,frame_bound=(12,50))"
   ]
  },
  {
   "cell_type": "code",
   "execution_count": 58,
   "id": "93631852-95d0-45a0-96e8-d76d96ea013c",
   "metadata": {
    "tags": []
   },
   "outputs": [
    {
     "data": {
      "text/plain": [
       "array([[ 3.90000000e+00,  4.86669600e+06,  0.00000000e+00,\n",
       "         0.00000000e+00,  0.00000000e+00],\n",
       "       [ 4.11000000e+00,  3.56221000e+06,  0.00000000e+00,\n",
       "         0.00000000e+00, -3.56221000e+06],\n",
       "       [ 3.50000000e+00,  3.65170900e+06,  0.00000000e+00,\n",
       "         0.00000000e+00, -7.21391900e+06],\n",
       "       [ 3.55000000e+00,  5.03953900e+06,  0.00000000e+00,\n",
       "         4.33948339e+01, -2.17438000e+06],\n",
       "       [ 3.65000000e+00,  7.72219400e+06,  0.00000000e+00,\n",
       "         2.93514572e+01, -9.89657400e+06],\n",
       "       [ 3.50000000e+00,  6.00978400e+06,  0.00000000e+00,\n",
       "         3.21029638e+01, -3.88679000e+06],\n",
       "       [ 3.89000000e+00,  6.80565900e+06,  0.00000000e+00,\n",
       "         4.75129499e+01,  2.91886900e+06],\n",
       "       [ 4.04000000e+00,  3.59205900e+06,  0.00000000e+00,\n",
       "         4.78769470e+01,  6.51092800e+06],\n",
       "       [ 4.24000000e+00,  6.21097900e+06,  0.00000000e+00,\n",
       "         5.57995572e+01,  1.27219070e+07],\n",
       "       [ 4.15000000e+00,  7.02476300e+06,  0.00000000e+00,\n",
       "         4.93981406e+01,  5.69714400e+06],\n",
       "       [ 3.65000000e+00,  3.35057100e+06,  0.00000000e+00,\n",
       "         3.60402233e+01,  2.34657300e+06],\n",
       "       [ 3.50000000e+00,  2.30413200e+06,  4.02000000e+00,\n",
       "         3.34748648e+01,  4.24410000e+04],\n",
       "       [ 3.12000000e+00,  4.56869500e+06,  3.92666667e+00,\n",
       "         2.96826208e+01, -4.52625400e+06],\n",
       "       [ 2.85000000e+00,  4.06433900e+06,  3.81166667e+00,\n",
       "         2.48348354e+01, -8.59059300e+06],\n",
       "       [ 2.57000000e+00,  3.83076100e+06,  3.73083333e+00,\n",
       "         2.43005757e+01, -1.24213540e+07],\n",
       "       [ 2.83000000e+00,  3.33107000e+06,  3.63916667e+00,\n",
       "         3.32674579e+01, -9.09028400e+06],\n",
       "       [ 3.10000000e+00,  2.83685900e+06,  3.59833333e+00,\n",
       "         3.81635819e+01, -6.25342500e+06],\n",
       "       [ 3.20000000e+00,  2.88452800e+06,  3.56500000e+00,\n",
       "         4.17437038e+01, -3.36889700e+06],\n",
       "       [ 3.49000000e+00,  5.90891600e+06,  3.54250000e+00,\n",
       "         5.20039324e+01,  2.54001900e+06],\n",
       "       [ 4.16000000e+00,  6.84450100e+06,  3.59000000e+00,\n",
       "         6.40714144e+01,  9.38452000e+06],\n",
       "       [ 5.14000000e+00,  1.35066300e+07,  3.71833333e+00,\n",
       "         7.40671104e+01,  2.28911500e+07],\n",
       "       [ 4.90000000e+00,  7.49985400e+06,  3.80583333e+00,\n",
       "         6.33931944e+01,  1.53912960e+07],\n",
       "       [ 4.88000000e+00,  3.37192100e+06,  3.92083333e+00,\n",
       "         6.01011321e+01,  1.20193750e+07],\n",
       "       [ 4.43000000e+00,  5.65318800e+06,  4.03583333e+00,\n",
       "         5.80713382e+01,  6.36618700e+06],\n",
       "       [ 4.78000000e+00,  6.08501100e+06,  4.23250000e+00,\n",
       "         6.43768198e+01,  1.24511980e+07],\n",
       "       [ 4.76000000e+00,  4.14205000e+06,  4.39333333e+00,\n",
       "         5.43659043e+01,  8.30914800e+06],\n",
       "       [ 4.83000000e+00,  2.67813300e+06,  4.56750000e+00,\n",
       "         5.53567351e+01,  1.09872810e+07],\n",
       "       [ 4.58000000e+00,  2.26585300e+06,  4.70166667e+00,\n",
       "         5.32077636e+01,  8.72142800e+06],\n",
       "       [ 4.66000000e+00,  2.23654400e+06,  4.82666667e+00,\n",
       "         5.39175455e+01,  1.09579720e+07],\n",
       "       [ 4.81000000e+00,  7.27513800e+06,  5.02750000e+00,\n",
       "         6.29870029e+01,  1.82331100e+07],\n",
       "       [ 5.06000000e+00,  5.20018900e+06,  5.17333333e+00,\n",
       "         6.07786688e+01,  1.30329210e+07],\n",
       "       [ 5.45000000e+00,  3.37004500e+06,  5.28166667e+00,\n",
       "         6.38147771e+01,  1.64029660e+07],\n",
       "       [ 5.64000000e+00,  2.17353000e+06,  5.26333333e+00,\n",
       "         5.99420834e+01,  1.42294360e+07],\n",
       "       [ 5.45000000e+00,  4.00559800e+06,  5.32833333e+00,\n",
       "         6.24737146e+01,  1.82350340e+07],\n",
       "       [ 5.40000000e+00,  4.06810500e+06,  5.36583333e+00,\n",
       "         5.57187511e+01,  1.41669290e+07],\n",
       "       [ 5.35000000e+00,  2.10591900e+06,  5.40833333e+00,\n",
       "         5.47128225e+01,  1.20610100e+07],\n",
       "       [ 4.90000000e+00,  3.36964000e+06,  5.35166667e+00,\n",
       "         4.97673242e+01,  8.69137000e+06],\n",
       "       [ 4.65000000e+00,  2.50119500e+06,  5.35916667e+00,\n",
       "         4.91433540e+01,  6.19017500e+06],\n",
       "       [ 4.82000000e+00,  2.35366100e+06,  5.36666667e+00,\n",
       "         5.03718500e+01,  8.54383600e+06],\n",
       "       [ 4.75000000e+00,  1.69915800e+06,  5.37166667e+00,\n",
       "         4.78806928e+01,  6.84467800e+06],\n",
       "       [ 4.46000000e+00,  2.63915700e+06,  5.35250000e+00,\n",
       "         4.54595360e+01,  4.20552100e+06],\n",
       "       [ 4.07000000e+00,  2.88287700e+06,  5.21833333e+00,\n",
       "         4.20266220e+01,  1.32264400e+06],\n",
       "       [ 3.96000000e+00,  2.00486800e+06,  5.09250000e+00,\n",
       "         4.12140829e+01, -6.82224000e+05],\n",
       "       [ 4.04000000e+00,  1.94070400e+06,  4.94083333e+00,\n",
       "         4.25595553e+01,  1.25848000e+06],\n",
       "       [ 4.36000000e+00,  2.37169400e+06,  4.84500000e+00,\n",
       "         4.77145371e+01,  3.63017400e+06],\n",
       "       [ 4.37000000e+00,  1.84073200e+06,  4.71083333e+00,\n",
       "         4.59861286e+01,  1.78944200e+06],\n",
       "       [ 4.34000000e+00,  2.54360900e+06,  4.62333333e+00,\n",
       "         4.58583463e+01, -7.54167000e+05],\n",
       "       [ 4.40000000e+00,  1.97190600e+06,  4.54416667e+00,\n",
       "         4.60198797e+01,  1.21773900e+06],\n",
       "       [ 4.13000000e+00,  2.37985100e+06,  4.48166667e+00,\n",
       "         4.24718284e+01, -1.16211200e+06],\n",
       "       [ 4.33000000e+00,  3.54592600e+06,  4.44416667e+00,\n",
       "         4.65670389e+01,  2.38381400e+06]])"
      ]
     },
     "execution_count": 58,
     "metadata": {},
     "output_type": "execute_result"
    }
   ],
   "source": [
    "env2.signal_features"
   ]
  },
  {
   "cell_type": "markdown",
   "id": "17f3e450-e9ca-4719-8b97-cf46e0a1ddb0",
   "metadata": {},
   "source": [
    "Earlier signal features were the low price and the difference between the next and current price"
   ]
  },
  {
   "cell_type": "markdown",
   "id": "bb19403d-b567-4bcb-bc39-e43bc9210475",
   "metadata": {},
   "source": [
    "Now we have provided the model with more features i.e. the indicators from technical analysis of finance "
   ]
  },
  {
   "cell_type": "code",
   "execution_count": 59,
   "id": "a8e27514-fbb2-4324-a1b9-af011843c1ab",
   "metadata": {
    "tags": []
   },
   "outputs": [
    {
     "data": {
      "text/html": [
       "<div>\n",
       "<style scoped>\n",
       "    .dataframe tbody tr th:only-of-type {\n",
       "        vertical-align: middle;\n",
       "    }\n",
       "\n",
       "    .dataframe tbody tr th {\n",
       "        vertical-align: top;\n",
       "    }\n",
       "\n",
       "    .dataframe thead th {\n",
       "        text-align: right;\n",
       "    }\n",
       "</style>\n",
       "<table border=\"1\" class=\"dataframe\">\n",
       "  <thead>\n",
       "    <tr style=\"text-align: right;\">\n",
       "      <th></th>\n",
       "      <th>Open</th>\n",
       "      <th>High</th>\n",
       "      <th>Low</th>\n",
       "      <th>Close</th>\n",
       "      <th>Volume</th>\n",
       "      <th>SMA</th>\n",
       "      <th>RSI</th>\n",
       "      <th>OBV</th>\n",
       "    </tr>\n",
       "    <tr>\n",
       "      <th>Date</th>\n",
       "      <th></th>\n",
       "      <th></th>\n",
       "      <th></th>\n",
       "      <th></th>\n",
       "      <th></th>\n",
       "      <th></th>\n",
       "      <th></th>\n",
       "      <th></th>\n",
       "    </tr>\n",
       "  </thead>\n",
       "  <tbody>\n",
       "    <tr>\n",
       "      <th>2020-03-16</th>\n",
       "      <td>3.93</td>\n",
       "      <td>4.57</td>\n",
       "      <td>3.90</td>\n",
       "      <td>4.37</td>\n",
       "      <td>4866696.0</td>\n",
       "      <td>0.0</td>\n",
       "      <td>0.000000</td>\n",
       "      <td>0.0</td>\n",
       "    </tr>\n",
       "    <tr>\n",
       "      <th>2020-03-17</th>\n",
       "      <td>4.40</td>\n",
       "      <td>4.65</td>\n",
       "      <td>4.11</td>\n",
       "      <td>4.23</td>\n",
       "      <td>3562210.0</td>\n",
       "      <td>0.0</td>\n",
       "      <td>0.000000</td>\n",
       "      <td>-3562210.0</td>\n",
       "    </tr>\n",
       "    <tr>\n",
       "      <th>2020-03-18</th>\n",
       "      <td>4.10</td>\n",
       "      <td>4.25</td>\n",
       "      <td>3.50</td>\n",
       "      <td>3.77</td>\n",
       "      <td>3651709.0</td>\n",
       "      <td>0.0</td>\n",
       "      <td>0.000000</td>\n",
       "      <td>-7213919.0</td>\n",
       "    </tr>\n",
       "    <tr>\n",
       "      <th>2020-03-19</th>\n",
       "      <td>3.71</td>\n",
       "      <td>4.20</td>\n",
       "      <td>3.55</td>\n",
       "      <td>4.19</td>\n",
       "      <td>5039539.0</td>\n",
       "      <td>0.0</td>\n",
       "      <td>43.394834</td>\n",
       "      <td>-2174380.0</td>\n",
       "    </tr>\n",
       "    <tr>\n",
       "      <th>2020-03-20</th>\n",
       "      <td>4.08</td>\n",
       "      <td>4.08</td>\n",
       "      <td>3.65</td>\n",
       "      <td>3.76</td>\n",
       "      <td>7722194.0</td>\n",
       "      <td>0.0</td>\n",
       "      <td>29.351457</td>\n",
       "      <td>-9896574.0</td>\n",
       "    </tr>\n",
       "  </tbody>\n",
       "</table>\n",
       "</div>"
      ],
      "text/plain": [
       "            Open  High   Low  Close     Volume  SMA        RSI        OBV\n",
       "Date                                                                     \n",
       "2020-03-16  3.93  4.57  3.90   4.37  4866696.0  0.0   0.000000        0.0\n",
       "2020-03-17  4.40  4.65  4.11   4.23  3562210.0  0.0   0.000000 -3562210.0\n",
       "2020-03-18  4.10  4.25  3.50   3.77  3651709.0  0.0   0.000000 -7213919.0\n",
       "2020-03-19  3.71  4.20  3.55   4.19  5039539.0  0.0  43.394834 -2174380.0\n",
       "2020-03-20  4.08  4.08  3.65   3.76  7722194.0  0.0  29.351457 -9896574.0"
      ]
     },
     "execution_count": 59,
     "metadata": {},
     "output_type": "execute_result"
    }
   ],
   "source": [
    "df.head()"
   ]
  },
  {
   "cell_type": "markdown",
   "id": "323f8613-9c64-47e1-a4dc-1be17139e1ad",
   "metadata": {},
   "source": [
    "# Build Environment and Train  "
   ]
  },
  {
   "cell_type": "code",
   "execution_count": 61,
   "id": "c209cc45-9311-4885-a82d-cb2edae38d5a",
   "metadata": {
    "tags": []
   },
   "outputs": [],
   "source": [
    "env_maker=lambda:env2\n",
    "env=DummyVecEnv([env_maker])"
   ]
  },
  {
   "cell_type": "code",
   "execution_count": 62,
   "id": "5548d73e-99d9-49ea-97a8-cb4a4971cb9c",
   "metadata": {
    "tags": []
   },
   "outputs": [
    {
     "name": "stdout",
     "output_type": "stream",
     "text": [
      "Using cpu device\n",
      "------------------------------------\n",
      "| time/                 |          |\n",
      "|    fps                | 375      |\n",
      "|    iterations         | 100      |\n",
      "|    time_elapsed       | 1        |\n",
      "|    total_timesteps    | 500      |\n",
      "| train/                |          |\n",
      "|    entropy_loss       | -0.678   |\n",
      "|    explained_variance | 0.204    |\n",
      "|    learning_rate      | 0.0007   |\n",
      "|    n_updates          | 99       |\n",
      "|    policy_loss        | -0.0857  |\n",
      "|    value_loss         | 0.0553   |\n",
      "------------------------------------\n",
      "------------------------------------\n",
      "| time/                 |          |\n",
      "|    fps                | 388      |\n",
      "|    iterations         | 200      |\n",
      "|    time_elapsed       | 2        |\n",
      "|    total_timesteps    | 1000     |\n",
      "| train/                |          |\n",
      "|    entropy_loss       | -0.647   |\n",
      "|    explained_variance | 0.197    |\n",
      "|    learning_rate      | 0.0007   |\n",
      "|    n_updates          | 199      |\n",
      "|    policy_loss        | -0.267   |\n",
      "|    value_loss         | 0.34     |\n",
      "------------------------------------\n",
      "------------------------------------\n",
      "| time/                 |          |\n",
      "|    fps                | 394      |\n",
      "|    iterations         | 300      |\n",
      "|    time_elapsed       | 3        |\n",
      "|    total_timesteps    | 1500     |\n",
      "| train/                |          |\n",
      "|    entropy_loss       | -0.537   |\n",
      "|    explained_variance | -2.8     |\n",
      "|    learning_rate      | 0.0007   |\n",
      "|    n_updates          | 299      |\n",
      "|    policy_loss        | 0.228    |\n",
      "|    value_loss         | 0.109    |\n",
      "------------------------------------\n",
      "------------------------------------\n",
      "| time/                 |          |\n",
      "|    fps                | 395      |\n",
      "|    iterations         | 400      |\n",
      "|    time_elapsed       | 5        |\n",
      "|    total_timesteps    | 2000     |\n",
      "| train/                |          |\n",
      "|    entropy_loss       | -0.179   |\n",
      "|    explained_variance | 0.937    |\n",
      "|    learning_rate      | 0.0007   |\n",
      "|    n_updates          | 399      |\n",
      "|    policy_loss        | 0.00167  |\n",
      "|    value_loss         | 0.00184  |\n",
      "------------------------------------\n",
      "------------------------------------\n",
      "| time/                 |          |\n",
      "|    fps                | 393      |\n",
      "|    iterations         | 500      |\n",
      "|    time_elapsed       | 6        |\n",
      "|    total_timesteps    | 2500     |\n",
      "| train/                |          |\n",
      "|    entropy_loss       | -0.45    |\n",
      "|    explained_variance | 0.173    |\n",
      "|    learning_rate      | 0.0007   |\n",
      "|    n_updates          | 499      |\n",
      "|    policy_loss        | 0.0347   |\n",
      "|    value_loss         | 0.0192   |\n",
      "------------------------------------\n",
      "------------------------------------\n",
      "| time/                 |          |\n",
      "|    fps                | 401      |\n",
      "|    iterations         | 600      |\n",
      "|    time_elapsed       | 7        |\n",
      "|    total_timesteps    | 3000     |\n",
      "| train/                |          |\n",
      "|    entropy_loss       | -0.116   |\n",
      "|    explained_variance | 0.886    |\n",
      "|    learning_rate      | 0.0007   |\n",
      "|    n_updates          | 599      |\n",
      "|    policy_loss        | 0.00061  |\n",
      "|    value_loss         | 0.00168  |\n",
      "------------------------------------\n",
      "------------------------------------\n",
      "| time/                 |          |\n",
      "|    fps                | 407      |\n",
      "|    iterations         | 700      |\n",
      "|    time_elapsed       | 8        |\n",
      "|    total_timesteps    | 3500     |\n",
      "| train/                |          |\n",
      "|    entropy_loss       | -0.358   |\n",
      "|    explained_variance | -0.649   |\n",
      "|    learning_rate      | 0.0007   |\n",
      "|    n_updates          | 699      |\n",
      "|    policy_loss        | -0.0362  |\n",
      "|    value_loss         | 0.0198   |\n",
      "------------------------------------\n",
      "-------------------------------------\n",
      "| time/                 |           |\n",
      "|    fps                | 410       |\n",
      "|    iterations         | 800       |\n",
      "|    time_elapsed       | 9         |\n",
      "|    total_timesteps    | 4000      |\n",
      "| train/                |           |\n",
      "|    entropy_loss       | -0.0556   |\n",
      "|    explained_variance | 0.958     |\n",
      "|    learning_rate      | 0.0007    |\n",
      "|    n_updates          | 799       |\n",
      "|    policy_loss        | -0.000103 |\n",
      "|    value_loss         | 0.000539  |\n",
      "-------------------------------------\n",
      "------------------------------------\n",
      "| time/                 |          |\n",
      "|    fps                | 412      |\n",
      "|    iterations         | 900      |\n",
      "|    time_elapsed       | 10       |\n",
      "|    total_timesteps    | 4500     |\n",
      "| train/                |          |\n",
      "|    entropy_loss       | -0.266   |\n",
      "|    explained_variance | 0.508    |\n",
      "|    learning_rate      | 0.0007   |\n",
      "|    n_updates          | 899      |\n",
      "|    policy_loss        | -0.0611  |\n",
      "|    value_loss         | 0.0266   |\n",
      "------------------------------------\n",
      "------------------------------------\n",
      "| time/                 |          |\n",
      "|    fps                | 413      |\n",
      "|    iterations         | 1000     |\n",
      "|    time_elapsed       | 12       |\n",
      "|    total_timesteps    | 5000     |\n",
      "| train/                |          |\n",
      "|    entropy_loss       | -0.0349  |\n",
      "|    explained_variance | 0.986    |\n",
      "|    learning_rate      | 0.0007   |\n",
      "|    n_updates          | 999      |\n",
      "|    policy_loss        | -7.5e-05 |\n",
      "|    value_loss         | 0.000352 |\n",
      "------------------------------------\n",
      "------------------------------------\n",
      "| time/                 |          |\n",
      "|    fps                | 414      |\n",
      "|    iterations         | 1100     |\n",
      "|    time_elapsed       | 13       |\n",
      "|    total_timesteps    | 5500     |\n",
      "| train/                |          |\n",
      "|    entropy_loss       | -0.315   |\n",
      "|    explained_variance | 0.835    |\n",
      "|    learning_rate      | 0.0007   |\n",
      "|    n_updates          | 1099     |\n",
      "|    policy_loss        | -0.116   |\n",
      "|    value_loss         | 0.0167   |\n",
      "------------------------------------\n",
      "------------------------------------\n",
      "| time/                 |          |\n",
      "|    fps                | 415      |\n",
      "|    iterations         | 1200     |\n",
      "|    time_elapsed       | 14       |\n",
      "|    total_timesteps    | 6000     |\n",
      "| train/                |          |\n",
      "|    entropy_loss       | -0.0993  |\n",
      "|    explained_variance | 0.993    |\n",
      "|    learning_rate      | 0.0007   |\n",
      "|    n_updates          | 1199     |\n",
      "|    policy_loss        | 0.000323 |\n",
      "|    value_loss         | 0.000382 |\n",
      "------------------------------------\n",
      "------------------------------------\n",
      "| time/                 |          |\n",
      "|    fps                | 415      |\n",
      "|    iterations         | 1300     |\n",
      "|    time_elapsed       | 15       |\n",
      "|    total_timesteps    | 6500     |\n",
      "| train/                |          |\n",
      "|    entropy_loss       | -0.233   |\n",
      "|    explained_variance | 0.471    |\n",
      "|    learning_rate      | 0.0007   |\n",
      "|    n_updates          | 1299     |\n",
      "|    policy_loss        | 0.00265  |\n",
      "|    value_loss         | 0.0039   |\n",
      "------------------------------------\n",
      "------------------------------------\n",
      "| time/                 |          |\n",
      "|    fps                | 416      |\n",
      "|    iterations         | 1400     |\n",
      "|    time_elapsed       | 16       |\n",
      "|    total_timesteps    | 7000     |\n",
      "| train/                |          |\n",
      "|    entropy_loss       | -0.147   |\n",
      "|    explained_variance | 0.949    |\n",
      "|    learning_rate      | 0.0007   |\n",
      "|    n_updates          | 1399     |\n",
      "|    policy_loss        | 0.00449  |\n",
      "|    value_loss         | 0.000466 |\n",
      "------------------------------------\n",
      "------------------------------------\n",
      "| time/                 |          |\n",
      "|    fps                | 416      |\n",
      "|    iterations         | 1500     |\n",
      "|    time_elapsed       | 18       |\n",
      "|    total_timesteps    | 7500     |\n",
      "| train/                |          |\n",
      "|    entropy_loss       | -0.154   |\n",
      "|    explained_variance | 0.644    |\n",
      "|    learning_rate      | 0.0007   |\n",
      "|    n_updates          | 1499     |\n",
      "|    policy_loss        | 0.0154   |\n",
      "|    value_loss         | 0.0468   |\n",
      "------------------------------------\n",
      "------------------------------------\n",
      "| time/                 |          |\n",
      "|    fps                | 418      |\n",
      "|    iterations         | 1600     |\n",
      "|    time_elapsed       | 19       |\n",
      "|    total_timesteps    | 8000     |\n",
      "| train/                |          |\n",
      "|    entropy_loss       | -0.101   |\n",
      "|    explained_variance | 0.975    |\n",
      "|    learning_rate      | 0.0007   |\n",
      "|    n_updates          | 1599     |\n",
      "|    policy_loss        | 0.00169  |\n",
      "|    value_loss         | 0.00061  |\n",
      "------------------------------------\n",
      "------------------------------------\n",
      "| time/                 |          |\n",
      "|    fps                | 419      |\n",
      "|    iterations         | 1700     |\n",
      "|    time_elapsed       | 20       |\n",
      "|    total_timesteps    | 8500     |\n",
      "| train/                |          |\n",
      "|    entropy_loss       | -0.118   |\n",
      "|    explained_variance | 0.969    |\n",
      "|    learning_rate      | 0.0007   |\n",
      "|    n_updates          | 1699     |\n",
      "|    policy_loss        | 0.00282  |\n",
      "|    value_loss         | 0.00351  |\n",
      "------------------------------------\n",
      "------------------------------------\n",
      "| time/                 |          |\n",
      "|    fps                | 420      |\n",
      "|    iterations         | 1800     |\n",
      "|    time_elapsed       | 21       |\n",
      "|    total_timesteps    | 9000     |\n",
      "| train/                |          |\n",
      "|    entropy_loss       | -0.0866  |\n",
      "|    explained_variance | 0.949    |\n",
      "|    learning_rate      | 0.0007   |\n",
      "|    n_updates          | 1799     |\n",
      "|    policy_loss        | -0.00174 |\n",
      "|    value_loss         | 0.00345  |\n",
      "------------------------------------\n",
      "------------------------------------\n",
      "| time/                 |          |\n",
      "|    fps                | 421      |\n",
      "|    iterations         | 1900     |\n",
      "|    time_elapsed       | 22       |\n",
      "|    total_timesteps    | 9500     |\n",
      "| train/                |          |\n",
      "|    entropy_loss       | -0.0441  |\n",
      "|    explained_variance | 0.873    |\n",
      "|    learning_rate      | 0.0007   |\n",
      "|    n_updates          | 1899     |\n",
      "|    policy_loss        | 0.00192  |\n",
      "|    value_loss         | 0.0138   |\n",
      "------------------------------------\n",
      "------------------------------------\n",
      "| time/                 |          |\n",
      "|    fps                | 422      |\n",
      "|    iterations         | 2000     |\n",
      "|    time_elapsed       | 23       |\n",
      "|    total_timesteps    | 10000    |\n",
      "| train/                |          |\n",
      "|    entropy_loss       | -0.0912  |\n",
      "|    explained_variance | 0.935    |\n",
      "|    learning_rate      | 0.0007   |\n",
      "|    n_updates          | 1999     |\n",
      "|    policy_loss        | 0.00477  |\n",
      "|    value_loss         | 0.00266  |\n",
      "------------------------------------\n",
      "-------------------------------------\n",
      "| time/                 |           |\n",
      "|    fps                | 421       |\n",
      "|    iterations         | 2100      |\n",
      "|    time_elapsed       | 24        |\n",
      "|    total_timesteps    | 10500     |\n",
      "| train/                |           |\n",
      "|    entropy_loss       | -0.00674  |\n",
      "|    explained_variance | 0.992     |\n",
      "|    learning_rate      | 0.0007    |\n",
      "|    n_updates          | 2099      |\n",
      "|    policy_loss        | -1.75e-05 |\n",
      "|    value_loss         | 0.000296  |\n",
      "-------------------------------------\n",
      "------------------------------------\n",
      "| time/                 |          |\n",
      "|    fps                | 422      |\n",
      "|    iterations         | 2200     |\n",
      "|    time_elapsed       | 26       |\n",
      "|    total_timesteps    | 11000    |\n",
      "| train/                |          |\n",
      "|    entropy_loss       | -0.169   |\n",
      "|    explained_variance | -3.63    |\n",
      "|    learning_rate      | 0.0007   |\n",
      "|    n_updates          | 2199     |\n",
      "|    policy_loss        | -0.296   |\n",
      "|    value_loss         | 0.0432   |\n",
      "------------------------------------\n",
      "------------------------------------\n",
      "| time/                 |          |\n",
      "|    fps                | 422      |\n",
      "|    iterations         | 2300     |\n",
      "|    time_elapsed       | 27       |\n",
      "|    total_timesteps    | 11500    |\n",
      "| train/                |          |\n",
      "|    entropy_loss       | -0.0133  |\n",
      "|    explained_variance | 0.96     |\n",
      "|    learning_rate      | 0.0007   |\n",
      "|    n_updates          | 2299     |\n",
      "|    policy_loss        | 2.77e-05 |\n",
      "|    value_loss         | 0.000864 |\n",
      "------------------------------------\n",
      "------------------------------------\n",
      "| time/                 |          |\n",
      "|    fps                | 423      |\n",
      "|    iterations         | 2400     |\n",
      "|    time_elapsed       | 28       |\n",
      "|    total_timesteps    | 12000    |\n",
      "| train/                |          |\n",
      "|    entropy_loss       | -0.0405  |\n",
      "|    explained_variance | 0.965    |\n",
      "|    learning_rate      | 0.0007   |\n",
      "|    n_updates          | 2399     |\n",
      "|    policy_loss        | 0.000268 |\n",
      "|    value_loss         | 0.00149  |\n",
      "------------------------------------\n",
      "------------------------------------\n",
      "| time/                 |          |\n",
      "|    fps                | 423      |\n",
      "|    iterations         | 2500     |\n",
      "|    time_elapsed       | 29       |\n",
      "|    total_timesteps    | 12500    |\n",
      "| train/                |          |\n",
      "|    entropy_loss       | -0.0103  |\n",
      "|    explained_variance | 0.956    |\n",
      "|    learning_rate      | 0.0007   |\n",
      "|    n_updates          | 2499     |\n",
      "|    policy_loss        | 8.5e-05  |\n",
      "|    value_loss         | 0.0025   |\n",
      "------------------------------------\n",
      "------------------------------------\n",
      "| time/                 |          |\n",
      "|    fps                | 423      |\n",
      "|    iterations         | 2600     |\n",
      "|    time_elapsed       | 30       |\n",
      "|    total_timesteps    | 13000    |\n",
      "| train/                |          |\n",
      "|    entropy_loss       | -0.0186  |\n",
      "|    explained_variance | 0.939    |\n",
      "|    learning_rate      | 0.0007   |\n",
      "|    n_updates          | 2599     |\n",
      "|    policy_loss        | 0.000181 |\n",
      "|    value_loss         | 0.00594  |\n",
      "------------------------------------\n",
      "------------------------------------\n",
      "| time/                 |          |\n",
      "|    fps                | 424      |\n",
      "|    iterations         | 2700     |\n",
      "|    time_elapsed       | 31       |\n",
      "|    total_timesteps    | 13500    |\n",
      "| train/                |          |\n",
      "|    entropy_loss       | -0.0409  |\n",
      "|    explained_variance | 0.974    |\n",
      "|    learning_rate      | 0.0007   |\n",
      "|    n_updates          | 2699     |\n",
      "|    policy_loss        | 0.000281 |\n",
      "|    value_loss         | 0.000464 |\n",
      "------------------------------------\n"
     ]
    },
    {
     "ename": "KeyboardInterrupt",
     "evalue": "",
     "output_type": "error",
     "traceback": [
      "\u001b[1;31m---------------------------------------------------------------------------\u001b[0m",
      "\u001b[1;31mKeyboardInterrupt\u001b[0m                         Traceback (most recent call last)",
      "Cell \u001b[1;32mIn[62], line 2\u001b[0m\n\u001b[0;32m      1\u001b[0m model \u001b[38;5;241m=\u001b[39m A2C(\u001b[38;5;124m'\u001b[39m\u001b[38;5;124mMlpPolicy\u001b[39m\u001b[38;5;124m'\u001b[39m, env, verbose\u001b[38;5;241m=\u001b[39m\u001b[38;5;241m1\u001b[39m) \n\u001b[1;32m----> 2\u001b[0m \u001b[43mmodel\u001b[49m\u001b[38;5;241;43m.\u001b[39;49m\u001b[43mlearn\u001b[49m\u001b[43m(\u001b[49m\u001b[43mtotal_timesteps\u001b[49m\u001b[38;5;241;43m=\u001b[39;49m\u001b[38;5;241;43m100000\u001b[39;49m\u001b[43m)\u001b[49m\n",
      "File \u001b[1;32m~\\anaconda3\\lib\\site-packages\\stable_baselines3\\a2c\\a2c.py:194\u001b[0m, in \u001b[0;36mA2C.learn\u001b[1;34m(self, total_timesteps, callback, log_interval, tb_log_name, reset_num_timesteps, progress_bar)\u001b[0m\n\u001b[0;32m    185\u001b[0m \u001b[38;5;28;01mdef\u001b[39;00m \u001b[38;5;21mlearn\u001b[39m(\n\u001b[0;32m    186\u001b[0m     \u001b[38;5;28mself\u001b[39m: SelfA2C,\n\u001b[0;32m    187\u001b[0m     total_timesteps: \u001b[38;5;28mint\u001b[39m,\n\u001b[1;32m   (...)\u001b[0m\n\u001b[0;32m    192\u001b[0m     progress_bar: \u001b[38;5;28mbool\u001b[39m \u001b[38;5;241m=\u001b[39m \u001b[38;5;28;01mFalse\u001b[39;00m,\n\u001b[0;32m    193\u001b[0m ) \u001b[38;5;241m-\u001b[39m\u001b[38;5;241m>\u001b[39m SelfA2C:\n\u001b[1;32m--> 194\u001b[0m     \u001b[38;5;28;01mreturn\u001b[39;00m \u001b[38;5;28;43msuper\u001b[39;49m\u001b[43m(\u001b[49m\u001b[43m)\u001b[49m\u001b[38;5;241;43m.\u001b[39;49m\u001b[43mlearn\u001b[49m\u001b[43m(\u001b[49m\n\u001b[0;32m    195\u001b[0m \u001b[43m        \u001b[49m\u001b[43mtotal_timesteps\u001b[49m\u001b[38;5;241;43m=\u001b[39;49m\u001b[43mtotal_timesteps\u001b[49m\u001b[43m,\u001b[49m\n\u001b[0;32m    196\u001b[0m \u001b[43m        \u001b[49m\u001b[43mcallback\u001b[49m\u001b[38;5;241;43m=\u001b[39;49m\u001b[43mcallback\u001b[49m\u001b[43m,\u001b[49m\n\u001b[0;32m    197\u001b[0m \u001b[43m        \u001b[49m\u001b[43mlog_interval\u001b[49m\u001b[38;5;241;43m=\u001b[39;49m\u001b[43mlog_interval\u001b[49m\u001b[43m,\u001b[49m\n\u001b[0;32m    198\u001b[0m \u001b[43m        \u001b[49m\u001b[43mtb_log_name\u001b[49m\u001b[38;5;241;43m=\u001b[39;49m\u001b[43mtb_log_name\u001b[49m\u001b[43m,\u001b[49m\n\u001b[0;32m    199\u001b[0m \u001b[43m        \u001b[49m\u001b[43mreset_num_timesteps\u001b[49m\u001b[38;5;241;43m=\u001b[39;49m\u001b[43mreset_num_timesteps\u001b[49m\u001b[43m,\u001b[49m\n\u001b[0;32m    200\u001b[0m \u001b[43m        \u001b[49m\u001b[43mprogress_bar\u001b[49m\u001b[38;5;241;43m=\u001b[39;49m\u001b[43mprogress_bar\u001b[49m\u001b[43m,\u001b[49m\n\u001b[0;32m    201\u001b[0m \u001b[43m    \u001b[49m\u001b[43m)\u001b[49m\n",
      "File \u001b[1;32m~\\anaconda3\\lib\\site-packages\\stable_baselines3\\common\\on_policy_algorithm.py:259\u001b[0m, in \u001b[0;36mOnPolicyAlgorithm.learn\u001b[1;34m(self, total_timesteps, callback, log_interval, tb_log_name, reset_num_timesteps, progress_bar)\u001b[0m\n\u001b[0;32m    256\u001b[0m \u001b[38;5;28;01massert\u001b[39;00m \u001b[38;5;28mself\u001b[39m\u001b[38;5;241m.\u001b[39menv \u001b[38;5;129;01mis\u001b[39;00m \u001b[38;5;129;01mnot\u001b[39;00m \u001b[38;5;28;01mNone\u001b[39;00m\n\u001b[0;32m    258\u001b[0m \u001b[38;5;28;01mwhile\u001b[39;00m \u001b[38;5;28mself\u001b[39m\u001b[38;5;241m.\u001b[39mnum_timesteps \u001b[38;5;241m<\u001b[39m total_timesteps:\n\u001b[1;32m--> 259\u001b[0m     continue_training \u001b[38;5;241m=\u001b[39m \u001b[38;5;28;43mself\u001b[39;49m\u001b[38;5;241;43m.\u001b[39;49m\u001b[43mcollect_rollouts\u001b[49m\u001b[43m(\u001b[49m\u001b[38;5;28;43mself\u001b[39;49m\u001b[38;5;241;43m.\u001b[39;49m\u001b[43menv\u001b[49m\u001b[43m,\u001b[49m\u001b[43m \u001b[49m\u001b[43mcallback\u001b[49m\u001b[43m,\u001b[49m\u001b[43m \u001b[49m\u001b[38;5;28;43mself\u001b[39;49m\u001b[38;5;241;43m.\u001b[39;49m\u001b[43mrollout_buffer\u001b[49m\u001b[43m,\u001b[49m\u001b[43m \u001b[49m\u001b[43mn_rollout_steps\u001b[49m\u001b[38;5;241;43m=\u001b[39;49m\u001b[38;5;28;43mself\u001b[39;49m\u001b[38;5;241;43m.\u001b[39;49m\u001b[43mn_steps\u001b[49m\u001b[43m)\u001b[49m\n\u001b[0;32m    261\u001b[0m     \u001b[38;5;28;01mif\u001b[39;00m continue_training \u001b[38;5;129;01mis\u001b[39;00m \u001b[38;5;28;01mFalse\u001b[39;00m:\n\u001b[0;32m    262\u001b[0m         \u001b[38;5;28;01mbreak\u001b[39;00m\n",
      "File \u001b[1;32m~\\anaconda3\\lib\\site-packages\\stable_baselines3\\common\\on_policy_algorithm.py:178\u001b[0m, in \u001b[0;36mOnPolicyAlgorithm.collect_rollouts\u001b[1;34m(self, env, callback, rollout_buffer, n_rollout_steps)\u001b[0m\n\u001b[0;32m    175\u001b[0m \u001b[38;5;28;01mif\u001b[39;00m \u001b[38;5;28misinstance\u001b[39m(\u001b[38;5;28mself\u001b[39m\u001b[38;5;241m.\u001b[39maction_space, spaces\u001b[38;5;241m.\u001b[39mBox):\n\u001b[0;32m    176\u001b[0m     clipped_actions \u001b[38;5;241m=\u001b[39m np\u001b[38;5;241m.\u001b[39mclip(actions, \u001b[38;5;28mself\u001b[39m\u001b[38;5;241m.\u001b[39maction_space\u001b[38;5;241m.\u001b[39mlow, \u001b[38;5;28mself\u001b[39m\u001b[38;5;241m.\u001b[39maction_space\u001b[38;5;241m.\u001b[39mhigh)\n\u001b[1;32m--> 178\u001b[0m new_obs, rewards, dones, infos \u001b[38;5;241m=\u001b[39m \u001b[43menv\u001b[49m\u001b[38;5;241;43m.\u001b[39;49m\u001b[43mstep\u001b[49m\u001b[43m(\u001b[49m\u001b[43mclipped_actions\u001b[49m\u001b[43m)\u001b[49m\n\u001b[0;32m    180\u001b[0m \u001b[38;5;28mself\u001b[39m\u001b[38;5;241m.\u001b[39mnum_timesteps \u001b[38;5;241m+\u001b[39m\u001b[38;5;241m=\u001b[39m env\u001b[38;5;241m.\u001b[39mnum_envs\n\u001b[0;32m    182\u001b[0m \u001b[38;5;66;03m# Give access to local variables\u001b[39;00m\n",
      "File \u001b[1;32m~\\anaconda3\\lib\\site-packages\\stable_baselines3\\common\\vec_env\\base_vec_env.py:197\u001b[0m, in \u001b[0;36mVecEnv.step\u001b[1;34m(self, actions)\u001b[0m\n\u001b[0;32m    190\u001b[0m \u001b[38;5;250m\u001b[39m\u001b[38;5;124;03m\"\"\"\u001b[39;00m\n\u001b[0;32m    191\u001b[0m \u001b[38;5;124;03mStep the environments with the given action\u001b[39;00m\n\u001b[0;32m    192\u001b[0m \n\u001b[0;32m    193\u001b[0m \u001b[38;5;124;03m:param actions: the action\u001b[39;00m\n\u001b[0;32m    194\u001b[0m \u001b[38;5;124;03m:return: observation, reward, done, information\u001b[39;00m\n\u001b[0;32m    195\u001b[0m \u001b[38;5;124;03m\"\"\"\u001b[39;00m\n\u001b[0;32m    196\u001b[0m \u001b[38;5;28mself\u001b[39m\u001b[38;5;241m.\u001b[39mstep_async(actions)\n\u001b[1;32m--> 197\u001b[0m \u001b[38;5;28;01mreturn\u001b[39;00m \u001b[38;5;28;43mself\u001b[39;49m\u001b[38;5;241;43m.\u001b[39;49m\u001b[43mstep_wait\u001b[49m\u001b[43m(\u001b[49m\u001b[43m)\u001b[49m\n",
      "File \u001b[1;32m~\\anaconda3\\lib\\site-packages\\stable_baselines3\\common\\vec_env\\dummy_vec_env.py:72\u001b[0m, in \u001b[0;36mDummyVecEnv.step_wait\u001b[1;34m(self)\u001b[0m\n\u001b[0;32m     70\u001b[0m         obs, \u001b[38;5;28mself\u001b[39m\u001b[38;5;241m.\u001b[39mreset_infos[env_idx] \u001b[38;5;241m=\u001b[39m \u001b[38;5;28mself\u001b[39m\u001b[38;5;241m.\u001b[39menvs[env_idx]\u001b[38;5;241m.\u001b[39mreset()\n\u001b[0;32m     71\u001b[0m     \u001b[38;5;28mself\u001b[39m\u001b[38;5;241m.\u001b[39m_save_obs(env_idx, obs)\n\u001b[1;32m---> 72\u001b[0m \u001b[38;5;28;01mreturn\u001b[39;00m (\u001b[38;5;28;43mself\u001b[39;49m\u001b[38;5;241;43m.\u001b[39;49m\u001b[43m_obs_from_buf\u001b[49m\u001b[43m(\u001b[49m\u001b[43m)\u001b[49m, np\u001b[38;5;241m.\u001b[39mcopy(\u001b[38;5;28mself\u001b[39m\u001b[38;5;241m.\u001b[39mbuf_rews), np\u001b[38;5;241m.\u001b[39mcopy(\u001b[38;5;28mself\u001b[39m\u001b[38;5;241m.\u001b[39mbuf_dones), deepcopy(\u001b[38;5;28mself\u001b[39m\u001b[38;5;241m.\u001b[39mbuf_infos))\n",
      "File \u001b[1;32m~\\anaconda3\\lib\\site-packages\\stable_baselines3\\common\\vec_env\\dummy_vec_env.py:111\u001b[0m, in \u001b[0;36mDummyVecEnv._obs_from_buf\u001b[1;34m(self)\u001b[0m\n\u001b[0;32m    110\u001b[0m \u001b[38;5;28;01mdef\u001b[39;00m \u001b[38;5;21m_obs_from_buf\u001b[39m(\u001b[38;5;28mself\u001b[39m) \u001b[38;5;241m-\u001b[39m\u001b[38;5;241m>\u001b[39m VecEnvObs:\n\u001b[1;32m--> 111\u001b[0m     \u001b[38;5;28;01mreturn\u001b[39;00m dict_to_obs(\u001b[38;5;28mself\u001b[39m\u001b[38;5;241m.\u001b[39mobservation_space, \u001b[43mcopy_obs_dict\u001b[49m\u001b[43m(\u001b[49m\u001b[38;5;28;43mself\u001b[39;49m\u001b[38;5;241;43m.\u001b[39;49m\u001b[43mbuf_obs\u001b[49m\u001b[43m)\u001b[49m)\n",
      "File \u001b[1;32m~\\anaconda3\\lib\\site-packages\\stable_baselines3\\common\\vec_env\\util.py:22\u001b[0m, in \u001b[0;36mcopy_obs_dict\u001b[1;34m(obs)\u001b[0m\n\u001b[0;32m     15\u001b[0m \u001b[38;5;250m\u001b[39m\u001b[38;5;124;03m\"\"\"\u001b[39;00m\n\u001b[0;32m     16\u001b[0m \u001b[38;5;124;03mDeep-copy a dict of numpy arrays.\u001b[39;00m\n\u001b[0;32m     17\u001b[0m \n\u001b[0;32m     18\u001b[0m \u001b[38;5;124;03m:param obs: a dict of numpy arrays.\u001b[39;00m\n\u001b[0;32m     19\u001b[0m \u001b[38;5;124;03m:return: a dict of copied numpy arrays.\u001b[39;00m\n\u001b[0;32m     20\u001b[0m \u001b[38;5;124;03m\"\"\"\u001b[39;00m\n\u001b[0;32m     21\u001b[0m \u001b[38;5;28;01massert\u001b[39;00m \u001b[38;5;28misinstance\u001b[39m(obs, OrderedDict), \u001b[38;5;124mf\u001b[39m\u001b[38;5;124m\"\u001b[39m\u001b[38;5;124munexpected type for observations \u001b[39m\u001b[38;5;124m'\u001b[39m\u001b[38;5;132;01m{\u001b[39;00m\u001b[38;5;28mtype\u001b[39m(obs)\u001b[38;5;132;01m}\u001b[39;00m\u001b[38;5;124m'\u001b[39m\u001b[38;5;124m\"\u001b[39m\n\u001b[1;32m---> 22\u001b[0m \u001b[38;5;28;01mreturn\u001b[39;00m OrderedDict([(k, np\u001b[38;5;241m.\u001b[39mcopy(v)) \u001b[38;5;28;01mfor\u001b[39;00m k, v \u001b[38;5;129;01min\u001b[39;00m obs\u001b[38;5;241m.\u001b[39mitems()])\n",
      "File \u001b[1;32m~\\anaconda3\\lib\\site-packages\\stable_baselines3\\common\\vec_env\\util.py:22\u001b[0m, in \u001b[0;36m<listcomp>\u001b[1;34m(.0)\u001b[0m\n\u001b[0;32m     15\u001b[0m \u001b[38;5;250m\u001b[39m\u001b[38;5;124;03m\"\"\"\u001b[39;00m\n\u001b[0;32m     16\u001b[0m \u001b[38;5;124;03mDeep-copy a dict of numpy arrays.\u001b[39;00m\n\u001b[0;32m     17\u001b[0m \n\u001b[0;32m     18\u001b[0m \u001b[38;5;124;03m:param obs: a dict of numpy arrays.\u001b[39;00m\n\u001b[0;32m     19\u001b[0m \u001b[38;5;124;03m:return: a dict of copied numpy arrays.\u001b[39;00m\n\u001b[0;32m     20\u001b[0m \u001b[38;5;124;03m\"\"\"\u001b[39;00m\n\u001b[0;32m     21\u001b[0m \u001b[38;5;28;01massert\u001b[39;00m \u001b[38;5;28misinstance\u001b[39m(obs, OrderedDict), \u001b[38;5;124mf\u001b[39m\u001b[38;5;124m\"\u001b[39m\u001b[38;5;124munexpected type for observations \u001b[39m\u001b[38;5;124m'\u001b[39m\u001b[38;5;132;01m{\u001b[39;00m\u001b[38;5;28mtype\u001b[39m(obs)\u001b[38;5;132;01m}\u001b[39;00m\u001b[38;5;124m'\u001b[39m\u001b[38;5;124m\"\u001b[39m\n\u001b[1;32m---> 22\u001b[0m \u001b[38;5;28;01mreturn\u001b[39;00m OrderedDict([(k, \u001b[43mnp\u001b[49m\u001b[38;5;241;43m.\u001b[39;49m\u001b[43mcopy\u001b[49m\u001b[43m(\u001b[49m\u001b[43mv\u001b[49m\u001b[43m)\u001b[49m) \u001b[38;5;28;01mfor\u001b[39;00m k, v \u001b[38;5;129;01min\u001b[39;00m obs\u001b[38;5;241m.\u001b[39mitems()])\n",
      "File \u001b[1;32m<__array_function__ internals>:200\u001b[0m, in \u001b[0;36mcopy\u001b[1;34m(*args, **kwargs)\u001b[0m\n",
      "File \u001b[1;32m~\\anaconda3\\lib\\site-packages\\numpy\\lib\\function_base.py:960\u001b[0m, in \u001b[0;36mcopy\u001b[1;34m(a, order, subok)\u001b[0m\n\u001b[0;32m    871\u001b[0m \u001b[38;5;129m@array_function_dispatch\u001b[39m(_copy_dispatcher)\n\u001b[0;32m    872\u001b[0m \u001b[38;5;28;01mdef\u001b[39;00m \u001b[38;5;21mcopy\u001b[39m(a, order\u001b[38;5;241m=\u001b[39m\u001b[38;5;124m'\u001b[39m\u001b[38;5;124mK\u001b[39m\u001b[38;5;124m'\u001b[39m, subok\u001b[38;5;241m=\u001b[39m\u001b[38;5;28;01mFalse\u001b[39;00m):\n\u001b[0;32m    873\u001b[0m \u001b[38;5;250m    \u001b[39m\u001b[38;5;124;03m\"\"\"\u001b[39;00m\n\u001b[0;32m    874\u001b[0m \u001b[38;5;124;03m    Return an array copy of the given object.\u001b[39;00m\n\u001b[0;32m    875\u001b[0m \n\u001b[1;32m   (...)\u001b[0m\n\u001b[0;32m    958\u001b[0m \n\u001b[0;32m    959\u001b[0m \u001b[38;5;124;03m    \"\"\"\u001b[39;00m\n\u001b[1;32m--> 960\u001b[0m     \u001b[38;5;28;01mreturn\u001b[39;00m \u001b[43marray\u001b[49m\u001b[43m(\u001b[49m\u001b[43ma\u001b[49m\u001b[43m,\u001b[49m\u001b[43m \u001b[49m\u001b[43morder\u001b[49m\u001b[38;5;241;43m=\u001b[39;49m\u001b[43morder\u001b[49m\u001b[43m,\u001b[49m\u001b[43m \u001b[49m\u001b[43msubok\u001b[49m\u001b[38;5;241;43m=\u001b[39;49m\u001b[43msubok\u001b[49m\u001b[43m,\u001b[49m\u001b[43m \u001b[49m\u001b[43mcopy\u001b[49m\u001b[38;5;241;43m=\u001b[39;49m\u001b[38;5;28;43;01mTrue\u001b[39;49;00m\u001b[43m)\u001b[49m\n",
      "\u001b[1;31mKeyboardInterrupt\u001b[0m: "
     ]
    }
   ],
   "source": [
    "model = A2C('MlpPolicy', env, verbose=1) \n",
    "model.learn(total_timesteps=100000)"
   ]
  },
  {
   "cell_type": "markdown",
   "id": "cedfa038-7539-4b9a-a3f7-b362a0df299c",
   "metadata": {
    "tags": []
   },
   "source": [
    "# 4.Evaluation"
   ]
  },
  {
   "cell_type": "code",
   "execution_count": 69,
   "id": "71fc04ba-1382-4f8b-80b5-0dbd58805820",
   "metadata": {
    "tags": []
   },
   "outputs": [
    {
     "name": "stdout",
     "output_type": "stream",
     "text": [
      "info {'total_reward': 11.86, 'total_profit': 36.75160209831894, 'position': <Positions.Long: 1>}\n"
     ]
    }
   ],
   "source": [
    "env=MyCustomEnv(df=df,frame_bound=(80,250),window_size=12)\n",
    "obs,_=env.reset()\n",
    "while True:\n",
    "    obs=obs[np.newaxis,:]\n",
    "    action,_states=model.predict(obs)\n",
    "    obs,rewards,truncated,terminated,info=env.step(action)\n",
    "    done=truncated or terminated\n",
    "    if done:\n",
    "        print(\"info\",info)\n",
    "        break\n",
    "    "
   ]
  },
  {
   "cell_type": "code",
   "execution_count": 70,
   "id": "9fa60dcd-e01b-4417-94a1-73ca72ba7522",
   "metadata": {
    "tags": []
   },
   "outputs": [
    {
     "data": {
      "image/png": "[encoded data removed]",
      "text/plain": [
       "<Figure size 1500x600 with 1 Axes>"
      ]
     },
     "metadata": {},
     "output_type": "display_data"
    }
   ],
   "source": [
    "plt.figure(figsize=(15,6))\n",
    "plt.cla()\n",
    "env.render_all()\n",
    "plt.show()"
   ]
  },
  {
   "cell_type": "markdown",
   "id": "b909a5eb-a42d-4851-8012-97e8a5378cde",
   "metadata": {},
   "source": [
    "# THAT'S 5275% PROFIT...THE MODEL HAS WORKED AMAZINGLY"
   ]
  },
  {
   "cell_type": "markdown",
   "id": "28b45bc9-f936-41f5-a904-485455df8178",
   "metadata": {},
   "source": [
    "# ATTEMPT 2: 3675% PROFIT!!! "
   ]
  }
 ],
 "metadata": {
  "kernelspec": {
   "display_name": "Python 3 (ipykernel)",
   "language": "python",
   "name": "python3"
  },
  "language_info": {
   "codemirror_mode": {
    "name": "ipython",
    "version": 3
   },
   "file_extension": ".py",
   "mimetype": "text/x-python",
   "name": "python",
   "nbconvert_exporter": "python",
   "pygments_lexer": "ipython3",
   "version": "3.10.9"
  }
 },
 "nbformat": 4,
 "nbformat_minor": 5
}
